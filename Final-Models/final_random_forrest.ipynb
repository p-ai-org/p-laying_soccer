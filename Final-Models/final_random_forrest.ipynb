{
  "nbformat": 4,
  "nbformat_minor": 0,
  "metadata": {
    "colab": {
      "provenance": [],
      "toc_visible": true
    },
    "kernelspec": {
      "name": "python3",
      "display_name": "Python 3"
    },
    "language_info": {
      "name": "python"
    }
  },
  "cells": [
    {
      "cell_type": "markdown",
      "source": [
        "# Setting up the notebook"
      ],
      "metadata": {
        "id": "hcQN5IR2OvFk"
      }
    },
    {
      "cell_type": "code",
      "source": [
        "from google.colab import files\n",
        "import pandas as pd\n",
        "import io\n",
        "from sklearn.ensemble import RandomForestClassifier\n",
        "from sklearn import metrics\n",
        "from sklearn.model_selection import GridSearchCV\n",
        "from sklearn.model_selection import train_test_split"
      ],
      "metadata": {
        "id": "aB_vJgnKFVCZ"
      },
      "execution_count": null,
      "outputs": []
    },
    {
      "cell_type": "code",
      "execution_count": 27,
      "metadata": {
        "colab": {
          "base_uri": "https://localhost:8080/",
          "height": 215
        },
        "id": "6SXmRVmA2tF-",
        "outputId": "8d440aec-917a-4f44-9a92-81c6f1397920"
      },
      "outputs": [
        {
          "output_type": "display_data",
          "data": {
            "text/plain": [
              "<IPython.core.display.HTML object>"
            ],
            "text/html": [
              "\n",
              "     <input type=\"file\" id=\"files-b0c33fa8-97b2-41da-8818-e6f402596bf7\" name=\"files[]\" multiple disabled\n",
              "        style=\"border:none\" />\n",
              "     <output id=\"result-b0c33fa8-97b2-41da-8818-e6f402596bf7\">\n",
              "      Upload widget is only available when the cell has been executed in the\n",
              "      current browser session. Please rerun this cell to enable.\n",
              "      </output>\n",
              "      <script>// Copyright 2017 Google LLC\n",
              "//\n",
              "// Licensed under the Apache License, Version 2.0 (the \"License\");\n",
              "// you may not use this file except in compliance with the License.\n",
              "// You may obtain a copy of the License at\n",
              "//\n",
              "//      http://www.apache.org/licenses/LICENSE-2.0\n",
              "//\n",
              "// Unless required by applicable law or agreed to in writing, software\n",
              "// distributed under the License is distributed on an \"AS IS\" BASIS,\n",
              "// WITHOUT WARRANTIES OR CONDITIONS OF ANY KIND, either express or implied.\n",
              "// See the License for the specific language governing permissions and\n",
              "// limitations under the License.\n",
              "\n",
              "/**\n",
              " * @fileoverview Helpers for google.colab Python module.\n",
              " */\n",
              "(function(scope) {\n",
              "function span(text, styleAttributes = {}) {\n",
              "  const element = document.createElement('span');\n",
              "  element.textContent = text;\n",
              "  for (const key of Object.keys(styleAttributes)) {\n",
              "    element.style[key] = styleAttributes[key];\n",
              "  }\n",
              "  return element;\n",
              "}\n",
              "\n",
              "// Max number of bytes which will be uploaded at a time.\n",
              "const MAX_PAYLOAD_SIZE = 100 * 1024;\n",
              "\n",
              "function _uploadFiles(inputId, outputId) {\n",
              "  const steps = uploadFilesStep(inputId, outputId);\n",
              "  const outputElement = document.getElementById(outputId);\n",
              "  // Cache steps on the outputElement to make it available for the next call\n",
              "  // to uploadFilesContinue from Python.\n",
              "  outputElement.steps = steps;\n",
              "\n",
              "  return _uploadFilesContinue(outputId);\n",
              "}\n",
              "\n",
              "// This is roughly an async generator (not supported in the browser yet),\n",
              "// where there are multiple asynchronous steps and the Python side is going\n",
              "// to poll for completion of each step.\n",
              "// This uses a Promise to block the python side on completion of each step,\n",
              "// then passes the result of the previous step as the input to the next step.\n",
              "function _uploadFilesContinue(outputId) {\n",
              "  const outputElement = document.getElementById(outputId);\n",
              "  const steps = outputElement.steps;\n",
              "\n",
              "  const next = steps.next(outputElement.lastPromiseValue);\n",
              "  return Promise.resolve(next.value.promise).then((value) => {\n",
              "    // Cache the last promise value to make it available to the next\n",
              "    // step of the generator.\n",
              "    outputElement.lastPromiseValue = value;\n",
              "    return next.value.response;\n",
              "  });\n",
              "}\n",
              "\n",
              "/**\n",
              " * Generator function which is called between each async step of the upload\n",
              " * process.\n",
              " * @param {string} inputId Element ID of the input file picker element.\n",
              " * @param {string} outputId Element ID of the output display.\n",
              " * @return {!Iterable<!Object>} Iterable of next steps.\n",
              " */\n",
              "function* uploadFilesStep(inputId, outputId) {\n",
              "  const inputElement = document.getElementById(inputId);\n",
              "  inputElement.disabled = false;\n",
              "\n",
              "  const outputElement = document.getElementById(outputId);\n",
              "  outputElement.innerHTML = '';\n",
              "\n",
              "  const pickedPromise = new Promise((resolve) => {\n",
              "    inputElement.addEventListener('change', (e) => {\n",
              "      resolve(e.target.files);\n",
              "    });\n",
              "  });\n",
              "\n",
              "  const cancel = document.createElement('button');\n",
              "  inputElement.parentElement.appendChild(cancel);\n",
              "  cancel.textContent = 'Cancel upload';\n",
              "  const cancelPromise = new Promise((resolve) => {\n",
              "    cancel.onclick = () => {\n",
              "      resolve(null);\n",
              "    };\n",
              "  });\n",
              "\n",
              "  // Wait for the user to pick the files.\n",
              "  const files = yield {\n",
              "    promise: Promise.race([pickedPromise, cancelPromise]),\n",
              "    response: {\n",
              "      action: 'starting',\n",
              "    }\n",
              "  };\n",
              "\n",
              "  cancel.remove();\n",
              "\n",
              "  // Disable the input element since further picks are not allowed.\n",
              "  inputElement.disabled = true;\n",
              "\n",
              "  if (!files) {\n",
              "    return {\n",
              "      response: {\n",
              "        action: 'complete',\n",
              "      }\n",
              "    };\n",
              "  }\n",
              "\n",
              "  for (const file of files) {\n",
              "    const li = document.createElement('li');\n",
              "    li.append(span(file.name, {fontWeight: 'bold'}));\n",
              "    li.append(span(\n",
              "        `(${file.type || 'n/a'}) - ${file.size} bytes, ` +\n",
              "        `last modified: ${\n",
              "            file.lastModifiedDate ? file.lastModifiedDate.toLocaleDateString() :\n",
              "                                    'n/a'} - `));\n",
              "    const percent = span('0% done');\n",
              "    li.appendChild(percent);\n",
              "\n",
              "    outputElement.appendChild(li);\n",
              "\n",
              "    const fileDataPromise = new Promise((resolve) => {\n",
              "      const reader = new FileReader();\n",
              "      reader.onload = (e) => {\n",
              "        resolve(e.target.result);\n",
              "      };\n",
              "      reader.readAsArrayBuffer(file);\n",
              "    });\n",
              "    // Wait for the data to be ready.\n",
              "    let fileData = yield {\n",
              "      promise: fileDataPromise,\n",
              "      response: {\n",
              "        action: 'continue',\n",
              "      }\n",
              "    };\n",
              "\n",
              "    // Use a chunked sending to avoid message size limits. See b/62115660.\n",
              "    let position = 0;\n",
              "    do {\n",
              "      const length = Math.min(fileData.byteLength - position, MAX_PAYLOAD_SIZE);\n",
              "      const chunk = new Uint8Array(fileData, position, length);\n",
              "      position += length;\n",
              "\n",
              "      const base64 = btoa(String.fromCharCode.apply(null, chunk));\n",
              "      yield {\n",
              "        response: {\n",
              "          action: 'append',\n",
              "          file: file.name,\n",
              "          data: base64,\n",
              "        },\n",
              "      };\n",
              "\n",
              "      let percentDone = fileData.byteLength === 0 ?\n",
              "          100 :\n",
              "          Math.round((position / fileData.byteLength) * 100);\n",
              "      percent.textContent = `${percentDone}% done`;\n",
              "\n",
              "    } while (position < fileData.byteLength);\n",
              "  }\n",
              "\n",
              "  // All done.\n",
              "  yield {\n",
              "    response: {\n",
              "      action: 'complete',\n",
              "    }\n",
              "  };\n",
              "}\n",
              "\n",
              "scope.google = scope.google || {};\n",
              "scope.google.colab = scope.google.colab || {};\n",
              "scope.google.colab._files = {\n",
              "  _uploadFiles,\n",
              "  _uploadFilesContinue,\n",
              "};\n",
              "})(self);\n",
              "</script> "
            ]
          },
          "metadata": {}
        },
        {
          "output_type": "stream",
          "name": "stdout",
          "text": [
            "Saving roundfive.csv to roundfive (1).csv\n",
            "Saving roundfour.csv to roundfour (1).csv\n",
            "Saving roundone.csv to roundone (1).csv\n",
            "Saving roundthree.csv to roundthree (1).csv\n",
            "Saving roundtwo.csv to roundtwo (1).csv\n"
          ]
        }
      ],
      "source": [
        "upload = files.upload()"
      ]
    },
    {
      "cell_type": "code",
      "source": [
        "df1 = pd.read_csv(io.BytesIO(upload['roundone.csv']))\n",
        "df2 = pd.read_csv(io.BytesIO(upload['roundtwo.csv']))\n",
        "df3 = pd.read_csv(io.BytesIO(upload['roundthree.csv']))\n",
        "df4 = pd.read_csv(io.BytesIO(upload['roundfour.csv']))\n",
        "df5 = pd.read_csv(io.BytesIO(upload['roundfive.csv']))\n",
        "print(df1)"
      ],
      "metadata": {
        "colab": {
          "base_uri": "https://localhost:8080/"
        },
        "id": "-YRL729420v0",
        "outputId": "4db850c9-0c24-419c-e521-93f23a781da2"
      },
      "execution_count": 28,
      "outputs": [
        {
          "output_type": "stream",
          "name": "stdout",
          "text": [
            "    Unnamed: 0  team_id  match_id            team.name       away_team_name  \\\n",
            "0            1      859   3835319      Austria Women's      Austria Women's   \n",
            "1            2      865   3835319      England Women's      Austria Women's   \n",
            "2            3     2457   3835320     Northern Ireland     Northern Ireland   \n",
            "3            4      852   3835320       Norway Women's     Northern Ireland   \n",
            "4            5      863   3835321        Spain Women's          WNT Finland   \n",
            "5            6      920   3835321          WNT Finland          WNT Finland   \n",
            "6            7      853   3835322      Denmark Women's      Denmark Women's   \n",
            "7            8      857   3835322      Germany Women's      Denmark Women's   \n",
            "8            9      864   3835323     Portugal Women's  Switzerland Women's   \n",
            "9           10      860   3835323  Switzerland Women's  Switzerland Women's   \n",
            "10          11      851   3835324  Netherlands Women's       Sweden Women's   \n",
            "11          12      858   3835324       Sweden Women's       Sweden Women's   \n",
            "12          13      861   3835325       France Women's        Italy Women's   \n",
            "13          14      855   3835325        Italy Women's        Italy Women's   \n",
            "14          15      854   3835326      Belgium Women's      Iceland Women's   \n",
            "15          16      862   3835326      Iceland Women's      Iceland Women's   \n",
            "\n",
            "   outcome  percentfirsttime  duration_perc  num_crosses  Total_shots  \\\n",
            "0     Loss          0.206327       0.453870            9            9   \n",
            "1      Win          0.201410       0.546130           16           16   \n",
            "2     Loss          0.157729       0.330696            4            7   \n",
            "3      Win          0.374131       0.669304           17           21   \n",
            "4      Win          0.329625       0.765081           25            4   \n",
            "5     Loss          0.290416       0.234919            5           33   \n",
            "6     Loss          0.000000       0.377649            6            6   \n",
            "7      Win          0.153846       0.622351           14           22   \n",
            "8      Tie          0.420610       0.616975           13            7   \n",
            "9      Tie          0.279330       0.383025            9           17   \n",
            "10     Tie          0.231884       0.472431            4           10   \n",
            "11     Tie          0.229358       0.527569           16           10   \n",
            "12     Win          0.313643       0.562483           15           16   \n",
            "13    Loss          0.206044       0.437517           10           13   \n",
            "14     Tie          0.181928       0.556801            9           10   \n",
            "15     Tie          0.427655       0.443199           18           21   \n",
            "\n",
            "    Ratio_of_Shots  numshotassist  \n",
            "0         0.562500              5  \n",
            "1         1.777778             10  \n",
            "2         0.333333              5  \n",
            "3         3.000000             12  \n",
            "4         0.121212             25  \n",
            "5         8.250000              2  \n",
            "6         0.272727              6  \n",
            "7         3.666667             12  \n",
            "8         0.411765             13  \n",
            "9         2.428571              2  \n",
            "10        1.000000              7  \n",
            "11        1.000000              6  \n",
            "12        1.230769             10  \n",
            "13        0.812500              7  \n",
            "14        0.476190              8  \n",
            "15        2.100000             12  \n"
          ]
        }
      ]
    },
    {
      "cell_type": "markdown",
      "source": [
        "# Training the models"
      ],
      "metadata": {
        "id": "SHO47gyNOmXj"
      }
    },
    {
      "cell_type": "markdown",
      "source": [
        "## Round 1\n",
        "\n",
        "Organize Round 1 Data\n"
      ],
      "metadata": {
        "id": "WAmIwGm_A0Ns"
      }
    },
    {
      "cell_type": "code",
      "source": [
        "# organize X and y dataframes\n",
        "\n",
        "X1 = df1.loc[:, \"percentfirsttime\":\"numshotassist\"]\n",
        "print(X1.info())\n",
        "y1 = df1.loc[:, \"outcome\"]"
      ],
      "metadata": {
        "colab": {
          "base_uri": "https://localhost:8080/"
        },
        "id": "PXg7dO0sA2Qq",
        "outputId": "8233130f-c716-4f55-a346-aebfd274bafd"
      },
      "execution_count": 4,
      "outputs": [
        {
          "output_type": "stream",
          "name": "stdout",
          "text": [
            "<class 'pandas.core.frame.DataFrame'>\n",
            "RangeIndex: 16 entries, 0 to 15\n",
            "Data columns (total 6 columns):\n",
            " #   Column            Non-Null Count  Dtype  \n",
            "---  ------            --------------  -----  \n",
            " 0   percentfirsttime  16 non-null     float64\n",
            " 1   duration_perc     16 non-null     float64\n",
            " 2   num_crosses       16 non-null     int64  \n",
            " 3   Total_shots       16 non-null     int64  \n",
            " 4   Ratio_of_Shots    16 non-null     float64\n",
            " 5   numshotassist     16 non-null     int64  \n",
            "dtypes: float64(3), int64(3)\n",
            "memory usage: 896.0 bytes\n",
            "None\n"
          ]
        }
      ]
    },
    {
      "cell_type": "markdown",
      "source": [
        "Tune Round 1 RF"
      ],
      "metadata": {
        "id": "NFdvoR3IAl20"
      }
    },
    {
      "cell_type": "code",
      "source": [
        "param_grid = {\n",
        "    'bootstrap': [True, False],\n",
        "    'n_estimators': [100,200,300,400,500],\n",
        "    'max_depth' : [3,5,None],\n",
        "    'max_features': [n for n in range(1,7)]\n",
        "}\n",
        "# Create a based model\n",
        "rf1 = RandomForestClassifier()\n",
        "# Instantiate the grid search model\n",
        "grid_search1 = GridSearchCV(estimator = rf1, param_grid = param_grid, \n",
        "                          cv = 3)\n",
        "\n",
        "# Fit the grid search to the data\n",
        "grid_search1.fit(X1, y1)\n",
        "print(grid_search1.best_params_)"
      ],
      "metadata": {
        "colab": {
          "base_uri": "https://localhost:8080/"
        },
        "id": "1Yiqnd9d27i1",
        "outputId": "3545398b-4216-401a-9da4-9a44d56a683e"
      },
      "execution_count": 5,
      "outputs": [
        {
          "output_type": "stream",
          "name": "stdout",
          "text": [
            "{'bootstrap': False, 'max_depth': 3, 'max_features': 4, 'n_estimators': 100}\n"
          ]
        }
      ]
    },
    {
      "cell_type": "code",
      "source": [
        "clf1 = RandomForestClassifier(n_estimators = 100, bootstrap = False, max_depth = 3, max_features = 4)\n",
        "clf1.fit(X1, y1)\n",
        "\n",
        "train1_pred = clf1.predict(X1)\n",
        "accuracy1 = metrics.accuracy_score(y1, train1_pred)\n",
        "print(\"Round 1 train accuracy: \", accuracy1)"
      ],
      "metadata": {
        "colab": {
          "base_uri": "https://localhost:8080/"
        },
        "id": "YJD5L324J0dI",
        "outputId": "cc291a5b-aeaa-4e07-b99c-c5e4c51704d5"
      },
      "execution_count": 35,
      "outputs": [
        {
          "output_type": "stream",
          "name": "stdout",
          "text": [
            "Round 1 train accuracy:  1.0\n"
          ]
        }
      ]
    },
    {
      "cell_type": "markdown",
      "source": [
        "## Round 2\n",
        "\n",
        "Organize Round 2 Data"
      ],
      "metadata": {
        "id": "w7HFMB5oAwUA"
      }
    },
    {
      "cell_type": "code",
      "source": [
        "# organize X and y dataframes\n",
        "\n",
        "X2 = df2.loc[:, \"percentfirsttime\":\"numshotassist\"]\n",
        "print(X2.info())\n",
        "y2 = df2.loc[:, \"outcome\"]\n",
        "\n",
        "# only round 2 outcomes\n",
        "y2only = df2.loc[16:, \"outcome\"]"
      ],
      "metadata": {
        "colab": {
          "base_uri": "https://localhost:8080/"
        },
        "id": "tCyS0mdBA_gk",
        "outputId": "5c9202c0-9fff-4942-9348-c9646c1eeeb3"
      },
      "execution_count": 53,
      "outputs": [
        {
          "output_type": "stream",
          "name": "stdout",
          "text": [
            "<class 'pandas.core.frame.DataFrame'>\n",
            "RangeIndex: 32 entries, 0 to 31\n",
            "Data columns (total 6 columns):\n",
            " #   Column            Non-Null Count  Dtype  \n",
            "---  ------            --------------  -----  \n",
            " 0   percentfirsttime  32 non-null     float64\n",
            " 1   duration_perc     32 non-null     float64\n",
            " 2   num_crosses       32 non-null     int64  \n",
            " 3   Total_shots       32 non-null     int64  \n",
            " 4   Ratio_of_Shots    32 non-null     float64\n",
            " 5   numshotassist     32 non-null     int64  \n",
            "dtypes: float64(3), int64(3)\n",
            "memory usage: 1.6 KB\n",
            "None\n"
          ]
        }
      ]
    },
    {
      "cell_type": "markdown",
      "source": [
        "Tune Round 2 RF"
      ],
      "metadata": {
        "id": "v7_hqMyBDL5p"
      }
    },
    {
      "cell_type": "code",
      "source": [
        "# Create a based model\n",
        "rf2 = RandomForestClassifier()\n",
        "# Instantiate the grid search model\n",
        "grid_search2 = GridSearchCV(estimator = rf2, param_grid = param_grid, \n",
        "                          cv = 3)\n",
        "\n",
        "# Fit the grid search to the data\n",
        "grid_search2.fit(X2, y2)\n",
        "print(grid_search2.best_params_)"
      ],
      "metadata": {
        "colab": {
          "base_uri": "https://localhost:8080/"
        },
        "id": "T_86Ho8B3dio",
        "outputId": "e27c5d50-5683-4500-9b50-1d8a138d39bb"
      },
      "execution_count": 14,
      "outputs": [
        {
          "output_type": "stream",
          "name": "stdout",
          "text": [
            "{'bootstrap': True, 'max_depth': None, 'max_features': 6, 'n_estimators': 100}\n"
          ]
        }
      ]
    },
    {
      "cell_type": "code",
      "source": [
        "clf2 = RandomForestClassifier(n_estimators = 100, bootstrap = True, max_depth = 6, max_features = 6)\n",
        "clf2.fit(X2, y2)\n",
        "\n",
        "train2_pred = clf2.predict(X2)\n",
        "accuracy2 = metrics.accuracy_score(y2, train2_pred)\n",
        "print(\"Round 2 train accuracy: \", accuracy2)"
      ],
      "metadata": {
        "colab": {
          "base_uri": "https://localhost:8080/"
        },
        "id": "Vxt18POFJua3",
        "outputId": "e38b616a-a445-40dd-bb13-6efe46d12dbf"
      },
      "execution_count": 34,
      "outputs": [
        {
          "output_type": "stream",
          "name": "stdout",
          "text": [
            "Round 2 train accuracy:  1.0\n"
          ]
        }
      ]
    },
    {
      "cell_type": "markdown",
      "source": [
        "## Round 3\n",
        "\n",
        "Organize Round 3 Data"
      ],
      "metadata": {
        "id": "nb5BlVlJDjl1"
      }
    },
    {
      "cell_type": "code",
      "source": [
        "# organize X and y dataframes\n",
        "\n",
        "X3 = df3.loc[:, \"percentfirsttime\":\"numshotassist\"]\n",
        "print(X3.info())\n",
        "y3 = df3.loc[:, \"outcome\"]\n",
        "\n",
        "# only round 3 outcomes\n",
        "y3only = df3.loc[32:, \"outcome\"]"
      ],
      "metadata": {
        "colab": {
          "base_uri": "https://localhost:8080/"
        },
        "id": "DCp5xKi7Djl_",
        "outputId": "b3e7dcd0-136e-478f-f0b5-e85c29e58e35"
      },
      "execution_count": 54,
      "outputs": [
        {
          "output_type": "stream",
          "name": "stdout",
          "text": [
            "<class 'pandas.core.frame.DataFrame'>\n",
            "RangeIndex: 48 entries, 0 to 47\n",
            "Data columns (total 6 columns):\n",
            " #   Column            Non-Null Count  Dtype  \n",
            "---  ------            --------------  -----  \n",
            " 0   percentfirsttime  48 non-null     float64\n",
            " 1   duration_perc     48 non-null     float64\n",
            " 2   num_crosses       48 non-null     int64  \n",
            " 3   Total_shots       48 non-null     int64  \n",
            " 4   Ratio_of_Shots    48 non-null     float64\n",
            " 5   numshotassist     48 non-null     int64  \n",
            "dtypes: float64(3), int64(3)\n",
            "memory usage: 2.4 KB\n",
            "None\n"
          ]
        }
      ]
    },
    {
      "cell_type": "markdown",
      "source": [
        "Tune Round 3 RF"
      ],
      "metadata": {
        "id": "gzS6zW8ZF19Z"
      }
    },
    {
      "cell_type": "code",
      "source": [
        "# Create a based model\n",
        "rf3 = RandomForestClassifier()\n",
        "# Instantiate the grid search model\n",
        "grid_search3 = GridSearchCV(estimator = rf3, param_grid = param_grid, \n",
        "                          cv = 3)\n",
        "\n",
        "# Fit the grid search to the data\n",
        "grid_search3.fit(X3, y3)\n",
        "print(grid_search3.best_params_)"
      ],
      "metadata": {
        "colab": {
          "base_uri": "https://localhost:8080/"
        },
        "id": "KZUXsFIoF19a",
        "outputId": "cdbbedf2-21d5-48d6-bc8c-c2d3d19ed923"
      },
      "execution_count": 19,
      "outputs": [
        {
          "output_type": "stream",
          "name": "stdout",
          "text": [
            "{'bootstrap': True, 'max_depth': None, 'max_features': 5, 'n_estimators': 200}\n"
          ]
        }
      ]
    },
    {
      "cell_type": "code",
      "source": [
        "clf3 = RandomForestClassifier(n_estimators = 200, bootstrap = True, max_depth = None, max_features = 5)\n",
        "clf3.fit(X3, y3)\n",
        "\n",
        "train3_pred = clf3.predict(X3)\n",
        "accuracy3 = metrics.accuracy_score(y3, train3_pred)\n",
        "print(\"Round 3 train accuracy: \", accuracy3)"
      ],
      "metadata": {
        "colab": {
          "base_uri": "https://localhost:8080/"
        },
        "id": "e2btXErpKBxz",
        "outputId": "2f872dea-3afa-4344-8791-c68b268aa6a8"
      },
      "execution_count": 32,
      "outputs": [
        {
          "output_type": "stream",
          "name": "stdout",
          "text": [
            "Round 3 train accuracy:  1.0\n"
          ]
        }
      ]
    },
    {
      "cell_type": "markdown",
      "source": [
        "## Round 4\n",
        "\n",
        "Organize Round 4 Data"
      ],
      "metadata": {
        "id": "Y_6YwkuXF19a"
      }
    },
    {
      "cell_type": "code",
      "source": [
        "# organize X and y dataframes\n",
        "\n",
        "X4 = df4.loc[:, \"percentfirsttime\":\"numshotassist\"]\n",
        "print(X4.info())\n",
        "y4 = df4.loc[:, \"outcome\"]\n",
        "\n",
        "# only round 4 outcomes\n",
        "y4only = df4.loc[48:, \"outcome\"]"
      ],
      "metadata": {
        "colab": {
          "base_uri": "https://localhost:8080/"
        },
        "id": "3P4DIeXKF19a",
        "outputId": "7dad02bd-58df-4614-f88a-7aaa50c85a9a"
      },
      "execution_count": 55,
      "outputs": [
        {
          "output_type": "stream",
          "name": "stdout",
          "text": [
            "<class 'pandas.core.frame.DataFrame'>\n",
            "RangeIndex: 56 entries, 0 to 55\n",
            "Data columns (total 6 columns):\n",
            " #   Column            Non-Null Count  Dtype  \n",
            "---  ------            --------------  -----  \n",
            " 0   percentfirsttime  56 non-null     float64\n",
            " 1   duration_perc     56 non-null     float64\n",
            " 2   num_crosses       56 non-null     int64  \n",
            " 3   Total_shots       56 non-null     int64  \n",
            " 4   Ratio_of_Shots    56 non-null     float64\n",
            " 5   numshotassist     56 non-null     int64  \n",
            "dtypes: float64(3), int64(3)\n",
            "memory usage: 2.8 KB\n",
            "None\n"
          ]
        }
      ]
    },
    {
      "cell_type": "markdown",
      "source": [
        "Tune Round 4 RF"
      ],
      "metadata": {
        "id": "qZDwNBSTIP-C"
      }
    },
    {
      "cell_type": "code",
      "source": [
        "# Create a based model\n",
        "rf4 = RandomForestClassifier()\n",
        "# Instantiate the grid search model\n",
        "grid_search4 = GridSearchCV(estimator = rf4, param_grid = param_grid, \n",
        "                          cv = 3)\n",
        "\n",
        "# Fit the grid search to the data\n",
        "grid_search4.fit(X4, y4)\n",
        "print(grid_search4.best_params_)"
      ],
      "metadata": {
        "colab": {
          "base_uri": "https://localhost:8080/"
        },
        "id": "1tM4ps1YIP-C",
        "outputId": "ea71c6b3-39de-4409-d2e3-a5eff1dee6c9"
      },
      "execution_count": 24,
      "outputs": [
        {
          "output_type": "stream",
          "name": "stdout",
          "text": [
            "{'bootstrap': True, 'max_depth': 5, 'max_features': 6, 'n_estimators': 400}\n"
          ]
        }
      ]
    },
    {
      "cell_type": "code",
      "source": [
        "clf4 = RandomForestClassifier(n_estimators = 400, bootstrap = True, max_depth = 5, max_features = 6)\n",
        "clf4.fit(X4, y4)\n",
        "\n",
        "train4_pred = clf4.predict(X4)\n",
        "accuracy4 = metrics.accuracy_score(y4, train4_pred)\n",
        "print(\"Round 4 train accuracy: \", accuracy4)"
      ],
      "metadata": {
        "colab": {
          "base_uri": "https://localhost:8080/"
        },
        "id": "9raRuRrZKllp",
        "outputId": "78b57b4b-370b-494c-acdb-7973aa817ab6"
      },
      "execution_count": 25,
      "outputs": [
        {
          "output_type": "stream",
          "name": "stdout",
          "text": [
            "Round 4 train accuracy:  1.0\n"
          ]
        }
      ]
    },
    {
      "cell_type": "markdown",
      "source": [
        "## Round 5\n",
        "\n",
        "Organize Round 5 Data"
      ],
      "metadata": {
        "id": "lUjshQy-IP-C"
      }
    },
    {
      "cell_type": "code",
      "source": [
        "# organize X and y dataframes\n",
        "\n",
        "X5 = df5.loc[:, \"percentfirsttime\":\"numshotassist\"]\n",
        "print(X5.info())\n",
        "y5 = df5.loc[:, \"outcome\"]\n",
        "\n",
        "# only round 5 outcomes\n",
        "y5only = df5.loc[56:, \"outcome\"]"
      ],
      "metadata": {
        "colab": {
          "base_uri": "https://localhost:8080/"
        },
        "id": "mborLyQKIP-C",
        "outputId": "d9989a73-e470-4593-c501-e8af3a45a888"
      },
      "execution_count": 56,
      "outputs": [
        {
          "output_type": "stream",
          "name": "stdout",
          "text": [
            "<class 'pandas.core.frame.DataFrame'>\n",
            "RangeIndex: 60 entries, 0 to 59\n",
            "Data columns (total 6 columns):\n",
            " #   Column            Non-Null Count  Dtype  \n",
            "---  ------            --------------  -----  \n",
            " 0   percentfirsttime  60 non-null     float64\n",
            " 1   duration_perc     60 non-null     float64\n",
            " 2   num_crosses       60 non-null     int64  \n",
            " 3   Total_shots       60 non-null     int64  \n",
            " 4   Ratio_of_Shots    60 non-null     float64\n",
            " 5   numshotassist     60 non-null     int64  \n",
            "dtypes: float64(3), int64(3)\n",
            "memory usage: 2.9 KB\n",
            "None\n"
          ]
        }
      ]
    },
    {
      "cell_type": "markdown",
      "source": [
        "Tune Round 5 RF"
      ],
      "metadata": {
        "id": "6DX_TEkcK1Gw"
      }
    },
    {
      "cell_type": "code",
      "source": [
        "# Create a based model\n",
        "rf5 = RandomForestClassifier()\n",
        "# Instantiate the grid search model\n",
        "grid_search5 = GridSearchCV(estimator = rf5, param_grid = param_grid, \n",
        "                          cv = 3)\n",
        "\n",
        "# Fit the grid search to the data\n",
        "grid_search5.fit(X5, y5)\n",
        "print(grid_search5.best_params_)"
      ],
      "metadata": {
        "colab": {
          "base_uri": "https://localhost:8080/"
        },
        "id": "9LdYGiVBK1Gw",
        "outputId": "af7eb1c8-0430-48c7-ef9b-71ab21a37913"
      },
      "execution_count": 46,
      "outputs": [
        {
          "output_type": "stream",
          "name": "stdout",
          "text": [
            "{'bootstrap': True, 'max_depth': 3, 'max_features': 1, 'n_estimators': 400}\n"
          ]
        }
      ]
    },
    {
      "cell_type": "code",
      "source": [
        "clf5 = RandomForestClassifier(n_estimators = 400, bootstrap = True, max_depth = 3, max_features = 1)\n",
        "clf5.fit(X5, y5)\n",
        "\n",
        "train5_pred = clf5.predict(X5)\n",
        "accuracy5 = metrics.accuracy_score(y5, train5_pred)\n",
        "print(\"Round 5 train accuracy: \", accuracy5)"
      ],
      "metadata": {
        "colab": {
          "base_uri": "https://localhost:8080/"
        },
        "id": "K7snpoFNK1Gx",
        "outputId": "1e0d8a42-5239-4229-c23e-11217cab4748"
      },
      "execution_count": 47,
      "outputs": [
        {
          "output_type": "stream",
          "name": "stdout",
          "text": [
            "Round 5 train accuracy:  0.8166666666666667\n"
          ]
        }
      ]
    },
    {
      "cell_type": "markdown",
      "source": [
        "# Predicting with the models"
      ],
      "metadata": {
        "id": "yN2TmwqZPIwQ"
      }
    },
    {
      "cell_type": "code",
      "source": [
        "upload = files.upload()"
      ],
      "metadata": {
        "id": "yzXgOAETPZjO"
      },
      "execution_count": null,
      "outputs": []
    },
    {
      "cell_type": "markdown",
      "source": [
        "Organize data frame of previous averages"
      ],
      "metadata": {
        "id": "NJN5_oI5SIGE"
      }
    },
    {
      "cell_type": "code",
      "source": [
        "\"\"\"\n",
        "Upload data frame containing 16 rows (1 for each team) \"averaging\" features from previous rounds.\n",
        "The order of the teams should align with the games from round 2 data\n",
        "\n",
        "Data frame info should look like below:\n",
        "\n",
        "RangeIndex: 16 entries, 0 to 15\n",
        "Data columns (total 6 columns):\n",
        " #   Column            Non-Null Count  Dtype  \n",
        "---  ------            --------------  -----  \n",
        " 0   percentfirsttime  16 non-null     float64\n",
        " 1   duration_perc     16 non-null     float64\n",
        " 2   num_crosses       16 non-null     float64  \n",
        " 3   Total_shots       16 non-null     float64  \n",
        " 4   Ratio_of_Shots    16 non-null     float64\n",
        " 5   numshotassist     16 non-null     float64 \n",
        "\n",
        "\"\"\"\n",
        "X1_avgs = pd.read_csv(io.BytesIO(upload['roundoneavgs.csv']))\n",
        "print(X1_avgs)"
      ],
      "metadata": {
        "id": "afUnXrjXQCLV"
      },
      "execution_count": null,
      "outputs": []
    },
    {
      "cell_type": "markdown",
      "source": [
        "Predicting Round 2 using CLF trained on Round 1"
      ],
      "metadata": {
        "id": "dCo77hXKPOE8"
      }
    },
    {
      "cell_type": "code",
      "source": [
        "y2_pred = clf1.predict(X1_avgs)\n",
        "accuracy5 = metrics.accuracy_score(y2only, y2_pred)\n",
        "print(\"Round 2 accuracy: \", accuracy2)"
      ],
      "metadata": {
        "id": "vqfhav3fPQPI"
      },
      "execution_count": null,
      "outputs": []
    }
  ]
}