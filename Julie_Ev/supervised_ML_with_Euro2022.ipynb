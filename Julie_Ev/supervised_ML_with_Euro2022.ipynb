{
  "cells": [
    {
      "cell_type": "markdown",
      "metadata": {
        "id": "YZqTDOztbf99"
      },
      "source": [
        "## Machine Learning\n",
        "\n",
        "Get a model to learn trends from  data on any topic and be able to reproduce those trends on comparable data in the future.\n",
        "\n",
        "### Supervised Learning\n",
        "\n",
        "- Train a model to learn trends from *labeled* data and be able to reproduce those trends and assign labels on comparable unseen data.\n",
        "- Have clear distinction between independent and target/dependent variables. Use independent variables to predict target variable.\n",
        "- Unseen data has known (but some times incomplete) set of independent variables and we use our model to predict target variable.\n",
        "\n",
        "#### Two Main Types of Suprversied Learning: Classification and Regression\n",
        "\n",
        "- Classification: Target variable is cateorical. Model categorizes observations into pre-determined (supervised) labels. Example: Given statistics, did the team win, lose, or draw (3 categories).\n",
        "- Regression: Target variable is numeric. Example: Given statistics, what percentage of possession did a team have?\n",
        "\n",
        "Question: If our target variable is the score of a soccer match? Should we use classfication or regression models? How do we design a target variable that leads to a robust model?"
      ]
    },
    {
      "cell_type": "markdown",
      "metadata": {
        "id": "cxQOmZhPbf9_"
      },
      "source": [
        "**Resource for R:** https://m154-comp-stats.netlify.app/notes.html"
      ]
    },
    {
      "cell_type": "markdown",
      "metadata": {
        "id": "J03f6zz_bf9_"
      },
      "source": [
        "#### k-nearest neighbors"
      ]
    },
    {
      "cell_type": "code",
      "execution_count": null,
      "metadata": {
        "id": "qAWkf3qCbf9_"
      },
      "outputs": [],
      "source": [
        "from sklearn.neighbors import KNeighborsClassifier\n",
        "from sklearn.model_selection import train_test_split\n",
        "from sklearn.datasets import load_iris"
      ]
    },
    {
      "cell_type": "code",
      "execution_count": null,
      "metadata": {
        "colab": {
          "base_uri": "https://localhost:8080/"
        },
        "id": "KR5xR7flbf-B",
        "outputId": "7b406638-d9f2-4706-bf21-c65bd59bf3cb"
      },
      "outputs": [
        {
          "output_type": "stream",
          "name": "stdout",
          "text": [
            "['setosa' 'versicolor' 'virginica']\n",
            "['sepal length (cm)', 'sepal width (cm)', 'petal length (cm)', 'petal width (cm)']\n"
          ]
        }
      ],
      "source": [
        "irisData = load_iris()\n",
        "irisData\n",
        "print(irisData.target_names)\n",
        "print(irisData.feature_names)"
      ]
    },
    {
      "cell_type": "code",
      "execution_count": null,
      "metadata": {
        "colab": {
          "base_uri": "https://localhost:8080/"
        },
        "id": "erqwbwiSbf-C",
        "outputId": "a1c78a21-d8dc-40a4-cb4f-1eb0122b2ac1"
      },
      "outputs": [
        {
          "output_type": "stream",
          "name": "stdout",
          "text": [
            "150\n",
            "4\n",
            "150\n"
          ]
        }
      ],
      "source": [
        "X = irisData.data\n",
        "y = irisData.target\n",
        "print(len(X))\n",
        "print(len(X[0]))\n",
        "print(len(y))"
      ]
    },
    {
      "cell_type": "code",
      "execution_count": null,
      "metadata": {
        "colab": {
          "base_uri": "https://localhost:8080/"
        },
        "id": "AchFAplCbf-D",
        "outputId": "43505e52-3c05-4d15-d4c6-cec2724b2017"
      },
      "outputs": [
        {
          "output_type": "stream",
          "name": "stdout",
          "text": [
            "120\n",
            "30\n"
          ]
        }
      ],
      "source": [
        "X_train, X_test, y_train, y_test = train_test_split(X, y, test_size = 0.2, random_state=47)\n",
        "print(len(X_train))\n",
        "print(len(X_test))"
      ]
    },
    {
      "cell_type": "code",
      "execution_count": null,
      "metadata": {
        "id": "i9Z2uwOGbf-D",
        "outputId": "4db7edcc-c3f7-486a-b453-58b7ba162fff"
      },
      "outputs": [
        {
          "name": "stdout",
          "output_type": "stream",
          "text": [
            "[0 0 1 0 0 2 1 2 1 0 2 0 1 2 2 2 1 0 0 0 2 1 2 2 2 2 1 2 0 0]\n",
            "[0 0]\n"
          ]
        }
      ],
      "source": [
        "knn = KNeighborsClassifier(n_neighbors=7)\n",
        "knn.fit(X_train, y_train)\n",
        "print(knn.predict(X_test))\n",
        "print(knn.predict([[.1,.1,.1,.1],[.4,.7,.3,.2]]))"
      ]
    },
    {
      "cell_type": "code",
      "execution_count": null,
      "metadata": {
        "id": "kbDZPpEjbf-D",
        "outputId": "1a4f25f0-e602-4558-eacb-63ea5376ae52"
      },
      "outputs": [
        {
          "name": "stdout",
          "output_type": "stream",
          "text": [
            "1.0\n"
          ]
        }
      ],
      "source": [
        "print(knn.score(X_test, y_test))"
      ]
    },
    {
      "cell_type": "markdown",
      "metadata": {
        "id": "ZmS9aW8Vbf-D"
      },
      "source": [
        "Cross Validating k (number of neighbors)"
      ]
    },
    {
      "cell_type": "code",
      "execution_count": null,
      "metadata": {
        "id": "b79Tjvyfbf-E"
      },
      "outputs": [],
      "source": [
        "import numpy as np\n",
        "import matplotlib.pyplot as plt"
      ]
    },
    {
      "cell_type": "code",
      "execution_count": null,
      "metadata": {
        "id": "YMmiONwhbf-E",
        "outputId": "156007ad-efa2-40bc-fd1e-a8c9e75f4208"
      },
      "outputs": [
        {
          "data": {
            "image/png": "[encoded data removed]",
            "text/plain": [
              "<Figure size 432x288 with 1 Axes>"
            ]
          },
          "metadata": {
            "needs_background": "light"
          },
          "output_type": "display_data"
        }
      ],
      "source": [
        "irisData = load_iris()\n",
        "  \n",
        "# Create feature and target arrays\n",
        "X = irisData.data\n",
        "y = irisData.target\n",
        "  \n",
        "# Split into training and test set\n",
        "X_train, X_test, y_train, y_test = train_test_split(\n",
        "             X, y, test_size = 0.2, random_state=47)\n",
        "  \n",
        "neighbors = np.arange(1, 9)\n",
        "train_accuracy = np.empty(len(neighbors))\n",
        "test_accuracy = np.empty(len(neighbors))\n",
        "  \n",
        "# Loop over K values\n",
        "for i, k in enumerate(neighbors):\n",
        "    knn = KNeighborsClassifier(n_neighbors=k)\n",
        "    knn.fit(X_train, y_train)\n",
        "      \n",
        "    # Compute training and test data accuracy\n",
        "    train_accuracy[i] = knn.score(X_train, y_train)\n",
        "    test_accuracy[i] = knn.score(X_test, y_test)\n",
        "  \n",
        "# Generate plot\n",
        "plt.plot(neighbors, test_accuracy, label = 'Testing dataset Accuracy')\n",
        "plt.plot(neighbors, train_accuracy, label = 'Training dataset Accuracy')\n",
        "  \n",
        "plt.legend()\n",
        "plt.xlabel('n_neighbors')\n",
        "plt.ylabel('Accuracy')\n",
        "plt.show()"
      ]
    },
    {
      "cell_type": "markdown",
      "metadata": {
        "id": "6fcnq7TUbf-E"
      },
      "source": [
        "#### Support Vector Machines (SVM)\n",
        "\n",
        "https://www.geeksforgeeks.org/introduction-to-support-vector-machines-svm/"
      ]
    },
    {
      "cell_type": "code",
      "execution_count": null,
      "metadata": {
        "id": "k7sPjpK0bf-F"
      },
      "outputs": [],
      "source": [
        "import numpy as np\n",
        "from sklearn.datasets import make_classification # makes simulated datasets\n",
        "from sklearn import svm\n",
        "from sklearn.model_selection import train_test_split"
      ]
    },
    {
      "cell_type": "code",
      "execution_count": null,
      "metadata": {
        "id": "vSng7cHqbf-F",
        "outputId": "9ea2d5cc-9645-4193-d254-534bf75ae47e"
      },
      "outputs": [
        {
          "name": "stdout",
          "output_type": "stream",
          "text": [
            "0.84\n",
            "0.96\n"
          ]
        },
        {
          "data": {
            "image/png": "[encoded data removed]",
            "text/plain": [
              "<Figure size 432x288 with 1 Axes>"
            ]
          },
          "metadata": {
            "needs_background": "light"
          },
          "output_type": "display_data"
        }
      ],
      "source": [
        "classes = 4\n",
        "X,t= make_classification(100, 5, n_classes = classes, random_state= 40, n_informative = 2, n_clusters_per_class = 1)\n",
        "\n",
        "X_train, X_test, y_train, y_test=  train_test_split(X, t , test_size=0.50)\n",
        "\n",
        "model = svm.SVC(kernel = 'linear', random_state = 0, C=1.0)\n",
        "\n",
        "model.fit(X_train, y_train)\n",
        "\n",
        "y=model.predict(X_test)\n",
        "y2=model.predict(X_train)\n",
        "\n",
        "from sklearn.metrics import accuracy_score\n",
        "score =accuracy_score(y, y_test)\n",
        "print(score)\n",
        "score2 =accuracy_score(y2, y_train)\n",
        "print(score2)\n",
        "\n",
        "import matplotlib.pyplot as plt\n",
        "color = ['black' if c == 0 else 'lightgrey' for c in y]\n",
        "plt.scatter(X_train[:,0], X_train[:,1], c=color)\n",
        " \n",
        "# Create the hyperplane\n",
        "w = model.coef_[0]\n",
        "a = -w[0] / w[1]\n",
        "xx = np.linspace(-2.5, 2.5)\n",
        "yy = a * xx - (model.intercept_[0]) / w[1]\n",
        " \n",
        "# Plot the hyperplane\n",
        "plt.plot(xx, yy)\n",
        "plt.axis(\"off\"), plt.show();"
      ]
    },
    {
      "cell_type": "markdown",
      "metadata": {
        "id": "xnZFB-BVbf-F"
      },
      "source": [
        "#### Random Forests\n",
        "\n",
        "https://www.geeksforgeeks.org/random-forest-classifier-using-scikit-learn/\n",
        "\n",
        "https://m154-comp-stats.netlify.app/notes.html"
      ]
    },
    {
      "cell_type": "markdown",
      "source": [
        "# Euro 2022"
      ],
      "metadata": {
        "id": "MtUUE7WKUi2S"
      }
    },
    {
      "cell_type": "code",
      "source": [
        "from google.colab import files\n",
        "upload = files.upload()"
      ],
      "metadata": {
        "id": "ehmvRiFajAge",
        "colab": {
          "base_uri": "https://localhost:8080/",
          "height": 74
        },
        "outputId": "f80fb820-d22e-458a-d30a-2db13d824547"
      },
      "execution_count": 15,
      "outputs": [
        {
          "output_type": "display_data",
          "data": {
            "text/plain": [
              "<IPython.core.display.HTML object>"
            ],
            "text/html": [
              "\n",
              "     <input type=\"file\" id=\"files-259998ad-9e0e-4100-aff7-7195f5ff924c\" name=\"files[]\" multiple disabled\n",
              "        style=\"border:none\" />\n",
              "     <output id=\"result-259998ad-9e0e-4100-aff7-7195f5ff924c\">\n",
              "      Upload widget is only available when the cell has been executed in the\n",
              "      current browser session. Please rerun this cell to enable.\n",
              "      </output>\n",
              "      <script>// Copyright 2017 Google LLC\n",
              "//\n",
              "// Licensed under the Apache License, Version 2.0 (the \"License\");\n",
              "// you may not use this file except in compliance with the License.\n",
              "// You may obtain a copy of the License at\n",
              "//\n",
              "//      http://www.apache.org/licenses/LICENSE-2.0\n",
              "//\n",
              "// Unless required by applicable law or agreed to in writing, software\n",
              "// distributed under the License is distributed on an \"AS IS\" BASIS,\n",
              "// WITHOUT WARRANTIES OR CONDITIONS OF ANY KIND, either express or implied.\n",
              "// See the License for the specific language governing permissions and\n",
              "// limitations under the License.\n",
              "\n",
              "/**\n",
              " * @fileoverview Helpers for google.colab Python module.\n",
              " */\n",
              "(function(scope) {\n",
              "function span(text, styleAttributes = {}) {\n",
              "  const element = document.createElement('span');\n",
              "  element.textContent = text;\n",
              "  for (const key of Object.keys(styleAttributes)) {\n",
              "    element.style[key] = styleAttributes[key];\n",
              "  }\n",
              "  return element;\n",
              "}\n",
              "\n",
              "// Max number of bytes which will be uploaded at a time.\n",
              "const MAX_PAYLOAD_SIZE = 100 * 1024;\n",
              "\n",
              "function _uploadFiles(inputId, outputId) {\n",
              "  const steps = uploadFilesStep(inputId, outputId);\n",
              "  const outputElement = document.getElementById(outputId);\n",
              "  // Cache steps on the outputElement to make it available for the next call\n",
              "  // to uploadFilesContinue from Python.\n",
              "  outputElement.steps = steps;\n",
              "\n",
              "  return _uploadFilesContinue(outputId);\n",
              "}\n",
              "\n",
              "// This is roughly an async generator (not supported in the browser yet),\n",
              "// where there are multiple asynchronous steps and the Python side is going\n",
              "// to poll for completion of each step.\n",
              "// This uses a Promise to block the python side on completion of each step,\n",
              "// then passes the result of the previous step as the input to the next step.\n",
              "function _uploadFilesContinue(outputId) {\n",
              "  const outputElement = document.getElementById(outputId);\n",
              "  const steps = outputElement.steps;\n",
              "\n",
              "  const next = steps.next(outputElement.lastPromiseValue);\n",
              "  return Promise.resolve(next.value.promise).then((value) => {\n",
              "    // Cache the last promise value to make it available to the next\n",
              "    // step of the generator.\n",
              "    outputElement.lastPromiseValue = value;\n",
              "    return next.value.response;\n",
              "  });\n",
              "}\n",
              "\n",
              "/**\n",
              " * Generator function which is called between each async step of the upload\n",
              " * process.\n",
              " * @param {string} inputId Element ID of the input file picker element.\n",
              " * @param {string} outputId Element ID of the output display.\n",
              " * @return {!Iterable<!Object>} Iterable of next steps.\n",
              " */\n",
              "function* uploadFilesStep(inputId, outputId) {\n",
              "  const inputElement = document.getElementById(inputId);\n",
              "  inputElement.disabled = false;\n",
              "\n",
              "  const outputElement = document.getElementById(outputId);\n",
              "  outputElement.innerHTML = '';\n",
              "\n",
              "  const pickedPromise = new Promise((resolve) => {\n",
              "    inputElement.addEventListener('change', (e) => {\n",
              "      resolve(e.target.files);\n",
              "    });\n",
              "  });\n",
              "\n",
              "  const cancel = document.createElement('button');\n",
              "  inputElement.parentElement.appendChild(cancel);\n",
              "  cancel.textContent = 'Cancel upload';\n",
              "  const cancelPromise = new Promise((resolve) => {\n",
              "    cancel.onclick = () => {\n",
              "      resolve(null);\n",
              "    };\n",
              "  });\n",
              "\n",
              "  // Wait for the user to pick the files.\n",
              "  const files = yield {\n",
              "    promise: Promise.race([pickedPromise, cancelPromise]),\n",
              "    response: {\n",
              "      action: 'starting',\n",
              "    }\n",
              "  };\n",
              "\n",
              "  cancel.remove();\n",
              "\n",
              "  // Disable the input element since further picks are not allowed.\n",
              "  inputElement.disabled = true;\n",
              "\n",
              "  if (!files) {\n",
              "    return {\n",
              "      response: {\n",
              "        action: 'complete',\n",
              "      }\n",
              "    };\n",
              "  }\n",
              "\n",
              "  for (const file of files) {\n",
              "    const li = document.createElement('li');\n",
              "    li.append(span(file.name, {fontWeight: 'bold'}));\n",
              "    li.append(span(\n",
              "        `(${file.type || 'n/a'}) - ${file.size} bytes, ` +\n",
              "        `last modified: ${\n",
              "            file.lastModifiedDate ? file.lastModifiedDate.toLocaleDateString() :\n",
              "                                    'n/a'} - `));\n",
              "    const percent = span('0% done');\n",
              "    li.appendChild(percent);\n",
              "\n",
              "    outputElement.appendChild(li);\n",
              "\n",
              "    const fileDataPromise = new Promise((resolve) => {\n",
              "      const reader = new FileReader();\n",
              "      reader.onload = (e) => {\n",
              "        resolve(e.target.result);\n",
              "      };\n",
              "      reader.readAsArrayBuffer(file);\n",
              "    });\n",
              "    // Wait for the data to be ready.\n",
              "    let fileData = yield {\n",
              "      promise: fileDataPromise,\n",
              "      response: {\n",
              "        action: 'continue',\n",
              "      }\n",
              "    };\n",
              "\n",
              "    // Use a chunked sending to avoid message size limits. See b/62115660.\n",
              "    let position = 0;\n",
              "    do {\n",
              "      const length = Math.min(fileData.byteLength - position, MAX_PAYLOAD_SIZE);\n",
              "      const chunk = new Uint8Array(fileData, position, length);\n",
              "      position += length;\n",
              "\n",
              "      const base64 = btoa(String.fromCharCode.apply(null, chunk));\n",
              "      yield {\n",
              "        response: {\n",
              "          action: 'append',\n",
              "          file: file.name,\n",
              "          data: base64,\n",
              "        },\n",
              "      };\n",
              "\n",
              "      let percentDone = fileData.byteLength === 0 ?\n",
              "          100 :\n",
              "          Math.round((position / fileData.byteLength) * 100);\n",
              "      percent.textContent = `${percentDone}% done`;\n",
              "\n",
              "    } while (position < fileData.byteLength);\n",
              "  }\n",
              "\n",
              "  // All done.\n",
              "  yield {\n",
              "    response: {\n",
              "      action: 'complete',\n",
              "    }\n",
              "  };\n",
              "}\n",
              "\n",
              "scope.google = scope.google || {};\n",
              "scope.google.colab = scope.google.colab || {};\n",
              "scope.google.colab._files = {\n",
              "  _uploadFiles,\n",
              "  _uploadFilesContinue,\n",
              "};\n",
              "})(self);\n",
              "</script> "
            ]
          },
          "metadata": {}
        },
        {
          "output_type": "stream",
          "name": "stdout",
          "text": [
            "Saving fivefeatures.csv to fivefeatures.csv\n"
          ]
        }
      ]
    },
    {
      "cell_type": "code",
      "source": [
        "import pandas as pd\n",
        "import io\n",
        " \n",
        "df = pd.read_csv(io.BytesIO(upload['fivefeatures.csv']))\n",
        "print(df)"
      ],
      "metadata": {
        "colab": {
          "base_uri": "https://localhost:8080/"
        },
        "id": "V3-tf4z6abC_",
        "outputId": "37fd978f-7240-4717-9305-d0c1db24d910"
      },
      "execution_count": 16,
      "outputs": [
        {
          "output_type": "stream",
          "name": "stdout",
          "text": [
            "    match_id         team_name    away_team_name  duration_perc  angleratio  \\\n",
            "0    3835319   Austria Women's   Austria Women's       0.453870    0.950495   \n",
            "1    3835319   England Women's   Austria Women's       0.546130    0.958621   \n",
            "2    3835320  Northern Ireland  Northern Ireland       0.330696    0.967742   \n",
            "3    3835320    Norway Women's  Northern Ireland       0.669304    0.954861   \n",
            "4    3835321       WNT Finland       WNT Finland       0.234919    1.000000   \n",
            "..       ...               ...               ...            ...         ...   \n",
            "57   3845506   England Women's    Sweden Women's       0.587479    0.890196   \n",
            "58   3845507    France Women's    France Women's       0.468572    1.017544   \n",
            "59   3845507   Germany Women's    France Women's       0.531428    0.942731   \n",
            "60   3847567   Germany Women's   Germany Women's       0.481612    0.939286   \n",
            "61   3847567   England Women's   Germany Women's       0.518388    1.011673   \n",
            "\n",
            "    highpassperc  passesreceivedperc  fouls  goals outcome  \n",
            "0       0.244949            0.825758     10      0    lose  \n",
            "1       0.214035            0.917544      5      1     win  \n",
            "2       0.211039            0.899351      7      1    lose  \n",
            "3       0.136042            0.920495      7      4     win  \n",
            "4       0.370690            0.788793     10      1    lose  \n",
            "..           ...                 ...    ...    ...     ...  \n",
            "57      0.236515            0.856846      7      4     win  \n",
            "58      0.220779            0.878788      8      0    lose  \n",
            "59      0.191441            0.885135     14      2     win  \n",
            "60      0.256881            0.706422     22      1    lose  \n",
            "61      0.266667            0.760000     20      2     win  \n",
            "\n",
            "[62 rows x 10 columns]\n"
          ]
        }
      ]
    },
    {
      "cell_type": "markdown",
      "source": [
        "## k-nearest neighbors"
      ],
      "metadata": {
        "id": "BlTh_LuoZorN"
      }
    },
    {
      "cell_type": "code",
      "source": [
        "from sklearn.neighbors import KNeighborsClassifier\n",
        "from sklearn.model_selection import train_test_split\n",
        "from sklearn.datasets import load_iris\n",
        "import numpy as np\n",
        "import matplotlib.pyplot as plt"
      ],
      "metadata": {
        "id": "SZmPKtgSgv_J"
      },
      "execution_count": null,
      "outputs": []
    },
    {
      "cell_type": "code",
      "source": [
        "# X = df[[\"duration_perc\",\"angleratio\", \"highpassperc\", \"passesreceivedperc\", \"fouls\"]]\n",
        "X = df[[\"duration_perc\",\"angleratio\", \"highpassperc\"]]\n",
        "y = df[\"outcome\"]\n",
        "print(X)\n",
        "print(y)\n",
        "X_train, X_test, y_train, y_test = train_test_split(\n",
        "             X, y, test_size = 0.2, random_state=49)\n",
        "\n",
        "knn = KNeighborsClassifier(n_neighbors = 7)\n",
        "knn.fit(X_train, y_train)\n",
        "print(knn.score(X_test, y_test))\n",
        "\n",
        "neighbors = np.arange(1, 9)\n",
        "train_accuracy = np.empty(len(neighbors))\n",
        "test_accuracy = np.empty(len(neighbors))\n",
        "  \n",
        "# Loop over K values\n",
        "for i, k in enumerate(neighbors):\n",
        "    knn = KNeighborsClassifier(n_neighbors=k)\n",
        "    knn.fit(X_train, y_train)\n",
        "      \n",
        "    # Compute training and test data accuracy\n",
        "    train_accuracy[i] = knn.score(X_train, y_train)\n",
        "    test_accuracy[i] = knn.score(X_test, y_test)\n",
        "  \n",
        "# Generate plot\n",
        "plt.plot(neighbors, test_accuracy, label = 'Testing dataset Accuracy')\n",
        "plt.plot(neighbors, train_accuracy, label = 'Training dataset Accuracy')\n",
        "  \n",
        "plt.legend()\n",
        "plt.xlabel('n_neighbors')\n",
        "plt.ylabel('Accuracy')\n",
        "plt.show()"
      ],
      "metadata": {
        "colab": {
          "base_uri": "https://localhost:8080/",
          "height": 748
        },
        "id": "bLBThyW1bvex",
        "outputId": "2956af85-3640-4fea-d435-6a0b34f80397"
      },
      "execution_count": null,
      "outputs": [
        {
          "output_type": "stream",
          "name": "stdout",
          "text": [
            "    duration_perc  angleratio  highpassperc\n",
            "0        0.453870    0.950495      0.244949\n",
            "1        0.546130    0.958621      0.214035\n",
            "2        0.330696    0.967742      0.211039\n",
            "3        0.669304    0.954861      0.136042\n",
            "4        0.234919    1.000000      0.370690\n",
            "..            ...         ...           ...\n",
            "57       0.587479    0.890196      0.236515\n",
            "58       0.468572    1.017544      0.220779\n",
            "59       0.531428    0.942731      0.191441\n",
            "60       0.481612    0.939286      0.256881\n",
            "61       0.518388    1.011673      0.266667\n",
            "\n",
            "[62 rows x 3 columns]\n",
            "0     lose\n",
            "1      win\n",
            "2     lose\n",
            "3      win\n",
            "4     lose\n",
            "      ... \n",
            "57     win\n",
            "58    lose\n",
            "59     win\n",
            "60    lose\n",
            "61     win\n",
            "Name: outcome, Length: 62, dtype: object\n",
            "0.6153846153846154\n"
          ]
        },
        {
          "output_type": "display_data",
          "data": {
            "text/plain": [
              "<Figure size 432x288 with 1 Axes>"
            ],
            "image/png": "[encoded data removed]"
          },
          "metadata": {
            "needs_background": "light"
          }
        }
      ]
    },
    {
      "cell_type": "markdown",
      "source": [
        "## SVM"
      ],
      "metadata": {
        "id": "2elIsl0weMpK"
      }
    },
    {
      "cell_type": "code",
      "source": [
        "import numpy as np\n",
        "from sklearn.datasets import make_classification # makes simulated datasets\n",
        "from sklearn.svm import SVC\n",
        "from sklearn.model_selection import train_test_split\n",
        "from sklearn.metrics import confusion_matrix\n",
        "from sklearn.metrics import accuracy_score\n",
        "import matplotlib.pyplot as plt"
      ],
      "metadata": {
        "id": "hzDTaO2YeTT1"
      },
      "execution_count": null,
      "outputs": []
    },
    {
      "cell_type": "code",
      "source": [
        "# Create feature and target arrays\n",
        "X = df[[\"duration_perc\",\"angleratio\", \"highpassperc\", \"passesreceivedperc\", \"fouls\"]]\n",
        "y = df[\"outcome\"]\n",
        "  \n",
        "# Split into training and test set\n",
        "X_train, X_test, y_train, y_test = train_test_split(\n",
        "             X, y, test_size = 0.2, random_state=49)\n",
        "\n",
        "# Create the SVM model  (SVM classifier)\n",
        "model = SVC(kernel = 'linear', random_state = 47)\n",
        "\n",
        "# Fit model on training data\n",
        "model.fit(X_train, y_train)\n",
        "\n",
        "# Make the prediction\n",
        "y_pred = model.predict(X_test)\n",
        "print(model.predict(X_test))\n",
        "\n",
        "print(model.score(X_train, y_train))  # 0.983\n",
        "print(model.score(X_test, y_test))    # 1.00"
      ],
      "metadata": {
        "colab": {
          "base_uri": "https://localhost:8080/"
        },
        "id": "AA_xPJCMeQzk",
        "outputId": "8aa983b8-d97e-4692-8e6e-065e85454472"
      },
      "execution_count": null,
      "outputs": [
        {
          "output_type": "stream",
          "name": "stdout",
          "text": [
            "['lose' 'win' 'win' 'win' 'lose' 'lose' 'win' 'win' 'lose' 'win' 'lose'\n",
            " 'win' 'lose']\n",
            "0.5714285714285714\n",
            "0.46153846153846156\n"
          ]
        }
      ]
    },
    {
      "cell_type": "markdown",
      "source": [
        "## Random Forests"
      ],
      "metadata": {
        "id": "7cK8BbP3ffzu"
      }
    },
    {
      "cell_type": "code",
      "source": [
        "from sklearn.ensemble import RandomForestClassifier\n",
        "import pandas as pd\n",
        "from sklearn import metrics"
      ],
      "metadata": {
        "id": "ZaSMUiu-fg-H"
      },
      "execution_count": 6,
      "outputs": []
    },
    {
      "cell_type": "code",
      "source": [
        "clf = RandomForestClassifier(n_estimators = 100)\n",
        "\n",
        "clf.fit(X_train, y_train)\n",
        "y_pred = clf.predict(X_test)\n",
        "\n",
        "print(\"accuracy:\", metrics.accuracy_score(y_test, y_pred))"
      ],
      "metadata": {
        "colab": {
          "base_uri": "https://localhost:8080/"
        },
        "id": "kFic0DcTfk5G",
        "outputId": "51bb857d-2882-4a6c-afab-03698772d111"
      },
      "execution_count": null,
      "outputs": [
        {
          "output_type": "stream",
          "name": "stdout",
          "text": [
            "accuracy: 0.5384615384615384\n"
          ]
        }
      ]
    },
    {
      "cell_type": "code",
      "source": [
        "# calculating feature importance\n",
        "feature_imp = pd.Series(clf.feature_importances_, index=X.columns).sort_values(ascending=False)\n",
        "feature_imp"
      ],
      "metadata": {
        "colab": {
          "base_uri": "https://localhost:8080/"
        },
        "id": "eqWQnsIafksK",
        "outputId": "e3a988c9-7cdd-49ae-f636-eefdaef39d2e"
      },
      "execution_count": null,
      "outputs": [
        {
          "output_type": "execute_result",
          "data": {
            "text/plain": [
              "duration_perc         0.333037\n",
              "angleratio            0.221054\n",
              "passesreceivedperc    0.168695\n",
              "highpassperc          0.147530\n",
              "fouls                 0.129684\n",
              "dtype: float64"
            ]
          },
          "metadata": {},
          "execution_count": 18
        }
      ]
    },
    {
      "cell_type": "code",
      "source": [],
      "metadata": {
        "colab": {
          "base_uri": "https://localhost:8080/"
        },
        "id": "AwoHup_NgJO1",
        "outputId": "6239bbab-8647-4c7e-c595-8f5a6394f7f1"
      },
      "execution_count": null,
      "outputs": [
        {
          "output_type": "execute_result",
          "data": {
            "text/plain": [
              "Index(['duration_perc', 'angleratio', 'highpassperc', 'passesreceivedperc',\n",
              "       'fouls'],\n",
              "      dtype='object')"
            ]
          },
          "metadata": {},
          "execution_count": 15
        }
      ]
    },
    {
      "cell_type": "markdown",
      "source": [
        "## All Features"
      ],
      "metadata": {
        "id": "vAYT8N31X4aI"
      }
    },
    {
      "cell_type": "code",
      "source": [
        "from google.colab import files\n",
        "upload = files.upload()"
      ],
      "metadata": {
        "colab": {
          "base_uri": "https://localhost:8080/",
          "height": 74
        },
        "outputId": "7423b485-05e3-4deb-9a71-d0168fce35f3",
        "id": "Hy9pQujPYeiX"
      },
      "execution_count": null,
      "outputs": [
        {
          "output_type": "display_data",
          "data": {
            "text/plain": [
              "<IPython.core.display.HTML object>"
            ],
            "text/html": [
              "\n",
              "     <input type=\"file\" id=\"files-9bde95c6-daca-468d-9070-59b45ed80d73\" name=\"files[]\" multiple disabled\n",
              "        style=\"border:none\" />\n",
              "     <output id=\"result-9bde95c6-daca-468d-9070-59b45ed80d73\">\n",
              "      Upload widget is only available when the cell has been executed in the\n",
              "      current browser session. Please rerun this cell to enable.\n",
              "      </output>\n",
              "      <script>// Copyright 2017 Google LLC\n",
              "//\n",
              "// Licensed under the Apache License, Version 2.0 (the \"License\");\n",
              "// you may not use this file except in compliance with the License.\n",
              "// You may obtain a copy of the License at\n",
              "//\n",
              "//      http://www.apache.org/licenses/LICENSE-2.0\n",
              "//\n",
              "// Unless required by applicable law or agreed to in writing, software\n",
              "// distributed under the License is distributed on an \"AS IS\" BASIS,\n",
              "// WITHOUT WARRANTIES OR CONDITIONS OF ANY KIND, either express or implied.\n",
              "// See the License for the specific language governing permissions and\n",
              "// limitations under the License.\n",
              "\n",
              "/**\n",
              " * @fileoverview Helpers for google.colab Python module.\n",
              " */\n",
              "(function(scope) {\n",
              "function span(text, styleAttributes = {}) {\n",
              "  const element = document.createElement('span');\n",
              "  element.textContent = text;\n",
              "  for (const key of Object.keys(styleAttributes)) {\n",
              "    element.style[key] = styleAttributes[key];\n",
              "  }\n",
              "  return element;\n",
              "}\n",
              "\n",
              "// Max number of bytes which will be uploaded at a time.\n",
              "const MAX_PAYLOAD_SIZE = 100 * 1024;\n",
              "\n",
              "function _uploadFiles(inputId, outputId) {\n",
              "  const steps = uploadFilesStep(inputId, outputId);\n",
              "  const outputElement = document.getElementById(outputId);\n",
              "  // Cache steps on the outputElement to make it available for the next call\n",
              "  // to uploadFilesContinue from Python.\n",
              "  outputElement.steps = steps;\n",
              "\n",
              "  return _uploadFilesContinue(outputId);\n",
              "}\n",
              "\n",
              "// This is roughly an async generator (not supported in the browser yet),\n",
              "// where there are multiple asynchronous steps and the Python side is going\n",
              "// to poll for completion of each step.\n",
              "// This uses a Promise to block the python side on completion of each step,\n",
              "// then passes the result of the previous step as the input to the next step.\n",
              "function _uploadFilesContinue(outputId) {\n",
              "  const outputElement = document.getElementById(outputId);\n",
              "  const steps = outputElement.steps;\n",
              "\n",
              "  const next = steps.next(outputElement.lastPromiseValue);\n",
              "  return Promise.resolve(next.value.promise).then((value) => {\n",
              "    // Cache the last promise value to make it available to the next\n",
              "    // step of the generator.\n",
              "    outputElement.lastPromiseValue = value;\n",
              "    return next.value.response;\n",
              "  });\n",
              "}\n",
              "\n",
              "/**\n",
              " * Generator function which is called between each async step of the upload\n",
              " * process.\n",
              " * @param {string} inputId Element ID of the input file picker element.\n",
              " * @param {string} outputId Element ID of the output display.\n",
              " * @return {!Iterable<!Object>} Iterable of next steps.\n",
              " */\n",
              "function* uploadFilesStep(inputId, outputId) {\n",
              "  const inputElement = document.getElementById(inputId);\n",
              "  inputElement.disabled = false;\n",
              "\n",
              "  const outputElement = document.getElementById(outputId);\n",
              "  outputElement.innerHTML = '';\n",
              "\n",
              "  const pickedPromise = new Promise((resolve) => {\n",
              "    inputElement.addEventListener('change', (e) => {\n",
              "      resolve(e.target.files);\n",
              "    });\n",
              "  });\n",
              "\n",
              "  const cancel = document.createElement('button');\n",
              "  inputElement.parentElement.appendChild(cancel);\n",
              "  cancel.textContent = 'Cancel upload';\n",
              "  const cancelPromise = new Promise((resolve) => {\n",
              "    cancel.onclick = () => {\n",
              "      resolve(null);\n",
              "    };\n",
              "  });\n",
              "\n",
              "  // Wait for the user to pick the files.\n",
              "  const files = yield {\n",
              "    promise: Promise.race([pickedPromise, cancelPromise]),\n",
              "    response: {\n",
              "      action: 'starting',\n",
              "    }\n",
              "  };\n",
              "\n",
              "  cancel.remove();\n",
              "\n",
              "  // Disable the input element since further picks are not allowed.\n",
              "  inputElement.disabled = true;\n",
              "\n",
              "  if (!files) {\n",
              "    return {\n",
              "      response: {\n",
              "        action: 'complete',\n",
              "      }\n",
              "    };\n",
              "  }\n",
              "\n",
              "  for (const file of files) {\n",
              "    const li = document.createElement('li');\n",
              "    li.append(span(file.name, {fontWeight: 'bold'}));\n",
              "    li.append(span(\n",
              "        `(${file.type || 'n/a'}) - ${file.size} bytes, ` +\n",
              "        `last modified: ${\n",
              "            file.lastModifiedDate ? file.lastModifiedDate.toLocaleDateString() :\n",
              "                                    'n/a'} - `));\n",
              "    const percent = span('0% done');\n",
              "    li.appendChild(percent);\n",
              "\n",
              "    outputElement.appendChild(li);\n",
              "\n",
              "    const fileDataPromise = new Promise((resolve) => {\n",
              "      const reader = new FileReader();\n",
              "      reader.onload = (e) => {\n",
              "        resolve(e.target.result);\n",
              "      };\n",
              "      reader.readAsArrayBuffer(file);\n",
              "    });\n",
              "    // Wait for the data to be ready.\n",
              "    let fileData = yield {\n",
              "      promise: fileDataPromise,\n",
              "      response: {\n",
              "        action: 'continue',\n",
              "      }\n",
              "    };\n",
              "\n",
              "    // Use a chunked sending to avoid message size limits. See b/62115660.\n",
              "    let position = 0;\n",
              "    do {\n",
              "      const length = Math.min(fileData.byteLength - position, MAX_PAYLOAD_SIZE);\n",
              "      const chunk = new Uint8Array(fileData, position, length);\n",
              "      position += length;\n",
              "\n",
              "      const base64 = btoa(String.fromCharCode.apply(null, chunk));\n",
              "      yield {\n",
              "        response: {\n",
              "          action: 'append',\n",
              "          file: file.name,\n",
              "          data: base64,\n",
              "        },\n",
              "      };\n",
              "\n",
              "      let percentDone = fileData.byteLength === 0 ?\n",
              "          100 :\n",
              "          Math.round((position / fileData.byteLength) * 100);\n",
              "      percent.textContent = `${percentDone}% done`;\n",
              "\n",
              "    } while (position < fileData.byteLength);\n",
              "  }\n",
              "\n",
              "  // All done.\n",
              "  yield {\n",
              "    response: {\n",
              "      action: 'complete',\n",
              "    }\n",
              "  };\n",
              "}\n",
              "\n",
              "scope.google = scope.google || {};\n",
              "scope.google.colab = scope.google.colab || {};\n",
              "scope.google.colab._files = {\n",
              "  _uploadFiles,\n",
              "  _uploadFilesContinue,\n",
              "};\n",
              "})(self);\n",
              "</script> "
            ]
          },
          "metadata": {}
        },
        {
          "output_type": "stream",
          "name": "stdout",
          "text": [
            "Saving combinedfeatures.csv to combinedfeatures.csv\n"
          ]
        }
      ]
    },
    {
      "cell_type": "code",
      "source": [
        "import pandas as pd\n",
        "import io\n",
        " \n",
        "dfcombined = pd.read_csv(io.BytesIO(upload['combinedfeatures.csv']))\n",
        "print(dfcombined.info())"
      ],
      "metadata": {
        "colab": {
          "base_uri": "https://localhost:8080/"
        },
        "id": "P9cssbvHdUDH",
        "outputId": "6f8e60db-b968-4493-aaca-b50fb3a6cd11"
      },
      "execution_count": null,
      "outputs": [
        {
          "output_type": "stream",
          "name": "stdout",
          "text": [
            "<class 'pandas.core.frame.DataFrame'>\n",
            "RangeIndex: 62 entries, 0 to 61\n",
            "Data columns (total 19 columns):\n",
            " #   Column                           Non-Null Count  Dtype  \n",
            "---  ------                           --------------  -----  \n",
            " 0   match_id                         62 non-null     int64  \n",
            " 1   team_name                        62 non-null     object \n",
            " 2   duration_perc                    62 non-null     float64\n",
            " 3   angleratio                       62 non-null     float64\n",
            " 4   highpassperc                     62 non-null     float64\n",
            " 5   passesreceivedperc               62 non-null     float64\n",
            " 6   fouls                            62 non-null     int64  \n",
            " 7   percentpassdeflect               62 non-null     float64\n",
            " 8   numthroughballs                  62 non-null     int64  \n",
            " 9   percentpassmiscom                62 non-null     float64\n",
            " 10  standing_diving                  62 non-null     int64  \n",
            " 11  team_id                          62 non-null     int64  \n",
            " 12  Percent_of_On_Target_Shots       62 non-null     float64\n",
            " 13  Total_shots                      62 non-null     int64  \n",
            " 14  Ratio_of_Shots                   62 non-null     float64\n",
            " 15  Previous_matches_win_percentage  46 non-null     float64\n",
            " 16  count_dribbles                   62 non-null     int64  \n",
            " 17  score                            62 non-null     int64  \n",
            " 18  outcome                          62 non-null     object \n",
            "dtypes: float64(9), int64(8), object(2)\n",
            "memory usage: 9.3+ KB\n",
            "None\n"
          ]
        }
      ]
    },
    {
      "cell_type": "code",
      "source": [
        "allX = dfcombined.loc[:, \"duration_perc\":\"count_dribbles\"]\n",
        "del allX[\"team_id\"]\n",
        "del allX['Previous_matches_win_percentage']\n",
        "print(allX.info())\n",
        "ally = dfcombined.loc[:, \"outcome\"]"
      ],
      "metadata": {
        "colab": {
          "base_uri": "https://localhost:8080/"
        },
        "id": "UnRv7JIqb-oB",
        "outputId": "1b9bce01-8999-4eb7-b23e-831f0a2673df"
      },
      "execution_count": null,
      "outputs": [
        {
          "output_type": "stream",
          "name": "stdout",
          "text": [
            "<class 'pandas.core.frame.DataFrame'>\n",
            "RangeIndex: 62 entries, 0 to 61\n",
            "Data columns (total 13 columns):\n",
            " #   Column                      Non-Null Count  Dtype  \n",
            "---  ------                      --------------  -----  \n",
            " 0   duration_perc               62 non-null     float64\n",
            " 1   angleratio                  62 non-null     float64\n",
            " 2   highpassperc                62 non-null     float64\n",
            " 3   passesreceivedperc          62 non-null     float64\n",
            " 4   fouls                       62 non-null     int64  \n",
            " 5   percentpassdeflect          62 non-null     float64\n",
            " 6   numthroughballs             62 non-null     int64  \n",
            " 7   percentpassmiscom           62 non-null     float64\n",
            " 8   standing_diving             62 non-null     int64  \n",
            " 9   Percent_of_On_Target_Shots  62 non-null     float64\n",
            " 10  Total_shots                 62 non-null     int64  \n",
            " 11  Ratio_of_Shots              62 non-null     float64\n",
            " 12  count_dribbles              62 non-null     int64  \n",
            "dtypes: float64(8), int64(5)\n",
            "memory usage: 6.4 KB\n",
            "None\n"
          ]
        }
      ]
    },
    {
      "cell_type": "code",
      "source": [
        "# Split into training and test set\n",
        "from sklearn.model_selection import train_test_split\n",
        "allX_train, allX_test, ally_train, ally_test = train_test_split(\n",
        "             allX, ally, test_size = 0.2, random_state=49)\n",
        "\n"
      ],
      "metadata": {
        "id": "asq4tqm0dlGI"
      },
      "execution_count": null,
      "outputs": []
    },
    {
      "cell_type": "code",
      "source": [
        "import matplotlib.pyplot as plt\n",
        "estimators = [50,100,150,200,250,300,350,400,450,500]\n",
        "accuracies = []\n",
        "for n in estimators:\n",
        "\n",
        "  allclf = RandomForestClassifier(n_estimators = n)\n",
        "\n",
        "  allclf.fit(allX_train, ally_train)\n",
        "  ally_pred = allclf.predict(allX_test)\n",
        "\n",
        "  accuracies.append(metrics.accuracy_score(ally_test, ally_pred))\n",
        "\n",
        "plt.plot(estimators, accuracies, label = \"n_estimators accuracy\")\n",
        "plt.xlabel('n_estimators')\n",
        "plt.ylabel('Accuracy')\n",
        "plt.show()"
      ],
      "metadata": {
        "colab": {
          "base_uri": "https://localhost:8080/",
          "height": 280
        },
        "id": "fh3--GTGdnXl",
        "outputId": "365b6a2c-b450-4eed-9198-d9ebf3a77713"
      },
      "execution_count": null,
      "outputs": [
        {
          "output_type": "display_data",
          "data": {
            "text/plain": [
              "<Figure size 432x288 with 1 Axes>"
            ],
            "image/png": "[encoded data removed]"
          },
          "metadata": {
            "needs_background": "light"
          }
        }
      ]
    },
    {
      "cell_type": "code",
      "source": [
        "from sklearn.model_selection import GridSearchCV\n",
        "\n",
        "allX_train, allX_test, ally_train, ally_test = train_test_split(\n",
        "            allX, ally, test_size = 0.2)\n",
        "param_grid = {\n",
        "    'bootstrap': [True, False],\n",
        "    'n_estimators': [100,200,300,400,500],\n",
        "    'max_depth' : [3,5,7,None],\n",
        "    'max_features': [n for n in range(1,13)]\n",
        "}\n",
        "# Create a based model\n",
        "rf = RandomForestClassifier()\n",
        "# Instantiate the grid search model\n",
        "grid_search = GridSearchCV(estimator = rf, param_grid = param_grid, \n",
        "                          cv = 3)\n",
        "\n",
        "# Fit the grid search to the data\n",
        "grid_search.fit(allX_train, ally_train)\n",
        "print(grid_search.best_params_)"
      ],
      "metadata": {
        "colab": {
          "base_uri": "https://localhost:8080/"
        },
        "id": "cCLjxuzWod7Y",
        "outputId": "d244b8c0-7819-4d5f-9f8e-d17217c82d98"
      },
      "execution_count": null,
      "outputs": [
        {
          "output_type": "stream",
          "name": "stdout",
          "text": [
            "{'bootstrap': True, 'max_depth': None, 'max_features': 1, 'n_estimators': 50}\n"
          ]
        }
      ]
    },
    {
      "cell_type": "code",
      "source": [
        "# average accuracy of model over 100 splits\n",
        "\n",
        "sum = 0\n",
        "for i in range(100):\n",
        "  allX_train, allX_test, ally_train, ally_test = train_test_split(\n",
        "              allX, ally, test_size = 0.2)\n",
        "  allclf = RandomForestClassifier(n_estimators = 100, bootstrap = True, max_depth = 3, max_features = 1)\n",
        "  allclf.fit(allX_train, ally_train)\n",
        "  ally_pred = allclf.predict(allX_test)\n",
        "  sum += metrics.accuracy_score(ally_test, ally_pred)\n",
        "\n",
        "print(sum/100)"
      ],
      "metadata": {
        "colab": {
          "base_uri": "https://localhost:8080/"
        },
        "id": "KQdK8p2cMqmC",
        "outputId": "afbdc540-c6e7-476d-aa43-af44b2731f39"
      },
      "execution_count": null,
      "outputs": [
        {
          "output_type": "stream",
          "name": "stdout",
          "text": [
            "0.6284615384615383\n"
          ]
        }
      ]
    },
    {
      "cell_type": "code",
      "source": [
        "import numpy as np"
      ],
      "metadata": {
        "id": "OVvHGlF568oy"
      },
      "execution_count": null,
      "outputs": []
    },
    {
      "cell_type": "code",
      "source": [
        "# average importances of each feature over 100 splits\n",
        "\n",
        "importances = pd.DataFrame()\n",
        "\n",
        "for n in range(100):\n",
        "\n",
        "  allX_train, allX_test, ally_train, ally_test = train_test_split(\n",
        "             allX, ally, test_size = 0.2)\n",
        "  allclf = RandomForestClassifier(n_estimators = 100, bootstrap = True, max_depth = 3, max_features = 1)\n",
        "  allclf.fit(allX_train, ally_train)\n",
        "  importances[str(n)] = pd.Series(allclf.feature_importances_)\n",
        "  estimators.append(n)\n",
        "\n",
        "importances['mean'] = importances.mean(axis=1)\n",
        "importancesAvg = pd.Series(importances[\"mean\"].tolist(), index = allX.columns)\n",
        "print(importancesAvg.sort_values(ascending = False))"
      ],
      "metadata": {
        "colab": {
          "base_uri": "https://localhost:8080/"
        },
        "id": "1OLsBXNlApea",
        "outputId": "2ff1866c-dbd6-4927-85da-9547abb4b340"
      },
      "execution_count": null,
      "outputs": [
        {
          "output_type": "stream",
          "name": "stdout",
          "text": [
            "duration_perc                 0.115022\n",
            "Ratio_of_Shots                0.094331\n",
            "Total_shots                   0.086420\n",
            "passesreceivedperc            0.083917\n",
            "angleratio                    0.079696\n",
            "highpassperc                  0.077905\n",
            "standing_diving               0.077431\n",
            "percentpassmiscom             0.071285\n",
            "Percent_of_On_Target_Shots    0.071137\n",
            "count_dribbles                0.067850\n",
            "percentpassdeflect            0.064816\n",
            "fouls                         0.062122\n",
            "numthroughballs               0.048068\n",
            "dtype: float64\n"
          ]
        }
      ]
    },
    {
      "cell_type": "code",
      "source": [
        "# average accuracy (over 100 splits) using the top n features based on importance\n",
        "\n",
        "accuracies = []\n",
        "sortedImp = importancesAvg.sort_values(ascending = False)\n",
        "cols = list(sortedImp.index)\n",
        "print(cols)\n",
        "\n",
        "for i in range(len(cols)):\n",
        "  sum = 0\n",
        "  someX = allX.loc[:, cols[0:i+1]]\n",
        "  somey = ally\n",
        "  for n in range(100):\n",
        "    someX_train, someX_test, somey_train, somey_test = train_test_split(\n",
        "                someX, somey, test_size = 0.2)\n",
        "    someclf = RandomForestClassifier(n_estimators = 100, bootstrap = True, max_depth = 3, max_features=1)\n",
        "    someclf.fit(someX_train, somey_train)\n",
        "    somey_pred = someclf.predict(someX_test)\n",
        "    sum += metrics.accuracy_score(somey_test, somey_pred)\n",
        "\n",
        "  accuracies.append(sum/100)\n",
        "\n",
        "plt.plot(cols, accuracies, label = \"Features accuracy\")\n",
        "plt.xticks(rotation=90)\n",
        "plt.xlabel('Prev important features including')\n",
        "plt.ylabel('Average Accuracy')\n",
        "plt.show()\n"
      ],
      "metadata": {
        "colab": {
          "base_uri": "https://localhost:8080/",
          "height": 409
        },
        "id": "eB1dRzEcfZPu",
        "outputId": "85e4a69e-9350-4b7d-edbd-048f9ab42874"
      },
      "execution_count": null,
      "outputs": [
        {
          "output_type": "display_data",
          "data": {
            "text/plain": [
              "<Figure size 432x288 with 1 Axes>"
            ],
            "image/png": "[encoded data removed]"
          },
          "metadata": {
            "needs_background": "light"
          }
        }
      ]
    },
    {
      "cell_type": "code",
      "source": [
        "sum = 0\n",
        "someX = allX.loc[:, cols[0:12]]\n",
        "somey = ally\n",
        "for i in range(200):\n",
        "    someX_train, someX_test, somey_train, somey_test = train_test_split(\n",
        "                someX, somey, test_size = 0.2)\n",
        "    someclf = RandomForestClassifier(n_estimators = 100, bootstrap = True, max_depth = 3, max_features=1)\n",
        "    someclf.fit(someX_train, somey_train)\n",
        "    somey_pred = someclf.predict(someX_test)\n",
        "    sum += metrics.accuracy_score(somey_test, somey_pred)\n",
        "\n",
        "print(sum/200)"
      ],
      "metadata": {
        "colab": {
          "base_uri": "https://localhost:8080/"
        },
        "id": "Kst_JFto05Zk",
        "outputId": "9357c0c6-d2ea-4658-df56-a2e63b05f19e"
      },
      "execution_count": null,
      "outputs": [
        {
          "output_type": "stream",
          "name": "stdout",
          "text": [
            "0.6388461538461536\n"
          ]
        }
      ]
    },
    {
      "cell_type": "markdown",
      "source": [
        "## Even More Features"
      ],
      "metadata": {
        "id": "6z-uoi61kryF"
      }
    },
    {
      "cell_type": "code",
      "source": [
        "from google.colab import files\n",
        "import pandas as pd\n",
        "import io\n",
        " \n",
        "upload = files.upload()\n"
      ],
      "metadata": {
        "colab": {
          "base_uri": "https://localhost:8080/",
          "height": 752
        },
        "id": "504_sNXdkzlE",
        "outputId": "5e0bcf7b-4822-40fd-d3a1-9d2c33aaa10c"
      },
      "execution_count": 1,
      "outputs": [
        {
          "output_type": "display_data",
          "data": {
            "text/plain": [
              "<IPython.core.display.HTML object>"
            ],
            "text/html": [
              "\n",
              "     <input type=\"file\" id=\"files-464dd32f-652b-4388-982f-60506094aa75\" name=\"files[]\" multiple disabled\n",
              "        style=\"border:none\" />\n",
              "     <output id=\"result-464dd32f-652b-4388-982f-60506094aa75\">\n",
              "      Upload widget is only available when the cell has been executed in the\n",
              "      current browser session. Please rerun this cell to enable.\n",
              "      </output>\n",
              "      <script>// Copyright 2017 Google LLC\n",
              "//\n",
              "// Licensed under the Apache License, Version 2.0 (the \"License\");\n",
              "// you may not use this file except in compliance with the License.\n",
              "// You may obtain a copy of the License at\n",
              "//\n",
              "//      http://www.apache.org/licenses/LICENSE-2.0\n",
              "//\n",
              "// Unless required by applicable law or agreed to in writing, software\n",
              "// distributed under the License is distributed on an \"AS IS\" BASIS,\n",
              "// WITHOUT WARRANTIES OR CONDITIONS OF ANY KIND, either express or implied.\n",
              "// See the License for the specific language governing permissions and\n",
              "// limitations under the License.\n",
              "\n",
              "/**\n",
              " * @fileoverview Helpers for google.colab Python module.\n",
              " */\n",
              "(function(scope) {\n",
              "function span(text, styleAttributes = {}) {\n",
              "  const element = document.createElement('span');\n",
              "  element.textContent = text;\n",
              "  for (const key of Object.keys(styleAttributes)) {\n",
              "    element.style[key] = styleAttributes[key];\n",
              "  }\n",
              "  return element;\n",
              "}\n",
              "\n",
              "// Max number of bytes which will be uploaded at a time.\n",
              "const MAX_PAYLOAD_SIZE = 100 * 1024;\n",
              "\n",
              "function _uploadFiles(inputId, outputId) {\n",
              "  const steps = uploadFilesStep(inputId, outputId);\n",
              "  const outputElement = document.getElementById(outputId);\n",
              "  // Cache steps on the outputElement to make it available for the next call\n",
              "  // to uploadFilesContinue from Python.\n",
              "  outputElement.steps = steps;\n",
              "\n",
              "  return _uploadFilesContinue(outputId);\n",
              "}\n",
              "\n",
              "// This is roughly an async generator (not supported in the browser yet),\n",
              "// where there are multiple asynchronous steps and the Python side is going\n",
              "// to poll for completion of each step.\n",
              "// This uses a Promise to block the python side on completion of each step,\n",
              "// then passes the result of the previous step as the input to the next step.\n",
              "function _uploadFilesContinue(outputId) {\n",
              "  const outputElement = document.getElementById(outputId);\n",
              "  const steps = outputElement.steps;\n",
              "\n",
              "  const next = steps.next(outputElement.lastPromiseValue);\n",
              "  return Promise.resolve(next.value.promise).then((value) => {\n",
              "    // Cache the last promise value to make it available to the next\n",
              "    // step of the generator.\n",
              "    outputElement.lastPromiseValue = value;\n",
              "    return next.value.response;\n",
              "  });\n",
              "}\n",
              "\n",
              "/**\n",
              " * Generator function which is called between each async step of the upload\n",
              " * process.\n",
              " * @param {string} inputId Element ID of the input file picker element.\n",
              " * @param {string} outputId Element ID of the output display.\n",
              " * @return {!Iterable<!Object>} Iterable of next steps.\n",
              " */\n",
              "function* uploadFilesStep(inputId, outputId) {\n",
              "  const inputElement = document.getElementById(inputId);\n",
              "  inputElement.disabled = false;\n",
              "\n",
              "  const outputElement = document.getElementById(outputId);\n",
              "  outputElement.innerHTML = '';\n",
              "\n",
              "  const pickedPromise = new Promise((resolve) => {\n",
              "    inputElement.addEventListener('change', (e) => {\n",
              "      resolve(e.target.files);\n",
              "    });\n",
              "  });\n",
              "\n",
              "  const cancel = document.createElement('button');\n",
              "  inputElement.parentElement.appendChild(cancel);\n",
              "  cancel.textContent = 'Cancel upload';\n",
              "  const cancelPromise = new Promise((resolve) => {\n",
              "    cancel.onclick = () => {\n",
              "      resolve(null);\n",
              "    };\n",
              "  });\n",
              "\n",
              "  // Wait for the user to pick the files.\n",
              "  const files = yield {\n",
              "    promise: Promise.race([pickedPromise, cancelPromise]),\n",
              "    response: {\n",
              "      action: 'starting',\n",
              "    }\n",
              "  };\n",
              "\n",
              "  cancel.remove();\n",
              "\n",
              "  // Disable the input element since further picks are not allowed.\n",
              "  inputElement.disabled = true;\n",
              "\n",
              "  if (!files) {\n",
              "    return {\n",
              "      response: {\n",
              "        action: 'complete',\n",
              "      }\n",
              "    };\n",
              "  }\n",
              "\n",
              "  for (const file of files) {\n",
              "    const li = document.createElement('li');\n",
              "    li.append(span(file.name, {fontWeight: 'bold'}));\n",
              "    li.append(span(\n",
              "        `(${file.type || 'n/a'}) - ${file.size} bytes, ` +\n",
              "        `last modified: ${\n",
              "            file.lastModifiedDate ? file.lastModifiedDate.toLocaleDateString() :\n",
              "                                    'n/a'} - `));\n",
              "    const percent = span('0% done');\n",
              "    li.appendChild(percent);\n",
              "\n",
              "    outputElement.appendChild(li);\n",
              "\n",
              "    const fileDataPromise = new Promise((resolve) => {\n",
              "      const reader = new FileReader();\n",
              "      reader.onload = (e) => {\n",
              "        resolve(e.target.result);\n",
              "      };\n",
              "      reader.readAsArrayBuffer(file);\n",
              "    });\n",
              "    // Wait for the data to be ready.\n",
              "    let fileData = yield {\n",
              "      promise: fileDataPromise,\n",
              "      response: {\n",
              "        action: 'continue',\n",
              "      }\n",
              "    };\n",
              "\n",
              "    // Use a chunked sending to avoid message size limits. See b/62115660.\n",
              "    let position = 0;\n",
              "    do {\n",
              "      const length = Math.min(fileData.byteLength - position, MAX_PAYLOAD_SIZE);\n",
              "      const chunk = new Uint8Array(fileData, position, length);\n",
              "      position += length;\n",
              "\n",
              "      const base64 = btoa(String.fromCharCode.apply(null, chunk));\n",
              "      yield {\n",
              "        response: {\n",
              "          action: 'append',\n",
              "          file: file.name,\n",
              "          data: base64,\n",
              "        },\n",
              "      };\n",
              "\n",
              "      let percentDone = fileData.byteLength === 0 ?\n",
              "          100 :\n",
              "          Math.round((position / fileData.byteLength) * 100);\n",
              "      percent.textContent = `${percentDone}% done`;\n",
              "\n",
              "    } while (position < fileData.byteLength);\n",
              "  }\n",
              "\n",
              "  // All done.\n",
              "  yield {\n",
              "    response: {\n",
              "      action: 'complete',\n",
              "    }\n",
              "  };\n",
              "}\n",
              "\n",
              "scope.google = scope.google || {};\n",
              "scope.google.colab = scope.google.colab || {};\n",
              "scope.google.colab._files = {\n",
              "  _uploadFiles,\n",
              "  _uploadFilesContinue,\n",
              "};\n",
              "})(self);\n",
              "</script> "
            ]
          },
          "metadata": {}
        },
        {
          "output_type": "stream",
          "name": "stdout",
          "text": [
            "Saving finalfeatures.csv to finalfeatures.csv\n",
            "<class 'pandas.core.frame.DataFrame'>\n",
            "RangeIndex: 62 entries, 0 to 61\n",
            "Data columns (total 30 columns):\n",
            " #   Column                           Non-Null Count  Dtype  \n",
            "---  ------                           --------------  -----  \n",
            " 0   team_id                          62 non-null     int64  \n",
            " 1   match_id                         62 non-null     int64  \n",
            " 2   team.name                        62 non-null     object \n",
            " 3   away_team_name                   62 non-null     object \n",
            " 4   outcome                          62 non-null     object \n",
            " 5   percenthighpass                  62 non-null     float64\n",
            " 6   numsubs                          62 non-null     int64  \n",
            " 7   percentfirsttime                 62 non-null     float64\n",
            " 8   percenthead                      62 non-null     float64\n",
            " 9   percentshotassist                62 non-null     int64  \n",
            " 10  percentpassdeflect.x             62 non-null     float64\n",
            " 11  percentpassmiscom.x              62 non-null     float64\n",
            " 12  numthroughballs.x                62 non-null     int64  \n",
            " 13  standing_diving.x                62 non-null     int64  \n",
            " 14  duration_perc                    62 non-null     float64\n",
            " 15  angleratio                       62 non-null     float64\n",
            " 16  highpassperc                     62 non-null     float64\n",
            " 17  passesreceivedperc               62 non-null     float64\n",
            " 18  fouls                            62 non-null     int64  \n",
            " 19  num_switches                     62 non-null     int64  \n",
            " 20  num_crosses                      62 non-null     int64  \n",
            " 21  num_clearance                    62 non-null     int64  \n",
            " 22  tackles_won_perc                 62 non-null     float64\n",
            " 23  complete_dribbles_perc           62 non-null     float64\n",
            " 24  Percent_of_On_Target_Shots       62 non-null     float64\n",
            " 25  Total_shots                      62 non-null     int64  \n",
            " 26  Ratio_of_Shots                   62 non-null     float64\n",
            " 27  Previous_matches_win_percentage  62 non-null     int64  \n",
            " 28  count_dribbles                   62 non-null     int64  \n",
            " 29  score                            62 non-null     int64  \n",
            "dtypes: float64(13), int64(14), object(3)\n",
            "memory usage: 14.7+ KB\n",
            "None\n"
          ]
        }
      ]
    },
    {
      "cell_type": "code",
      "source": [
        "dfAll = pd.read_csv(io.BytesIO(upload['finalfeatures.csv']))\n",
        "print(dfAll.info())"
      ],
      "metadata": {
        "colab": {
          "base_uri": "https://localhost:8080/"
        },
        "id": "77paWWhllEYn",
        "outputId": "2637bd5a-ffbd-4c10-b427-a2fe7946cf37"
      },
      "execution_count": 2,
      "outputs": [
        {
          "output_type": "stream",
          "name": "stdout",
          "text": [
            "<class 'pandas.core.frame.DataFrame'>\n",
            "RangeIndex: 62 entries, 0 to 61\n",
            "Data columns (total 30 columns):\n",
            " #   Column                           Non-Null Count  Dtype  \n",
            "---  ------                           --------------  -----  \n",
            " 0   team_id                          62 non-null     int64  \n",
            " 1   match_id                         62 non-null     int64  \n",
            " 2   team.name                        62 non-null     object \n",
            " 3   away_team_name                   62 non-null     object \n",
            " 4   outcome                          62 non-null     object \n",
            " 5   percenthighpass                  62 non-null     float64\n",
            " 6   numsubs                          62 non-null     int64  \n",
            " 7   percentfirsttime                 62 non-null     float64\n",
            " 8   percenthead                      62 non-null     float64\n",
            " 9   percentshotassist                62 non-null     int64  \n",
            " 10  percentpassdeflect.x             62 non-null     float64\n",
            " 11  percentpassmiscom.x              62 non-null     float64\n",
            " 12  numthroughballs.x                62 non-null     int64  \n",
            " 13  standing_diving.x                62 non-null     int64  \n",
            " 14  duration_perc                    62 non-null     float64\n",
            " 15  angleratio                       62 non-null     float64\n",
            " 16  highpassperc                     62 non-null     float64\n",
            " 17  passesreceivedperc               62 non-null     float64\n",
            " 18  fouls                            62 non-null     int64  \n",
            " 19  num_switches                     62 non-null     int64  \n",
            " 20  num_crosses                      62 non-null     int64  \n",
            " 21  num_clearance                    62 non-null     int64  \n",
            " 22  tackles_won_perc                 62 non-null     float64\n",
            " 23  complete_dribbles_perc           62 non-null     float64\n",
            " 24  Percent_of_On_Target_Shots       62 non-null     float64\n",
            " 25  Total_shots                      62 non-null     int64  \n",
            " 26  Ratio_of_Shots                   62 non-null     float64\n",
            " 27  Previous_matches_win_percentage  62 non-null     int64  \n",
            " 28  count_dribbles                   62 non-null     int64  \n",
            " 29  score                            62 non-null     int64  \n",
            "dtypes: float64(13), int64(14), object(3)\n",
            "memory usage: 14.7+ KB\n",
            "None\n"
          ]
        }
      ]
    },
    {
      "cell_type": "code",
      "source": [
        "# Split into training and test set\n",
        "from sklearn.model_selection import train_test_split\n",
        "\n",
        "finalallX = dfAll.loc[:, \"percenthighpass\":\"count_dribbles\"]\n",
        "print(finalallX.info())\n",
        "finalally = dfAll.loc[:, \"outcome\"]\n",
        "\n",
        "finalallX_train, finalallX_test, finalally_train, finalally_test = train_test_split(\n",
        "             finalallX, finalally, test_size = 0.2, random_state=49)"
      ],
      "metadata": {
        "colab": {
          "base_uri": "https://localhost:8080/"
        },
        "id": "Wet-52WWlQ_J",
        "outputId": "4d92d326-566b-4855-b007-a594757a513a"
      },
      "execution_count": 4,
      "outputs": [
        {
          "output_type": "stream",
          "name": "stdout",
          "text": [
            "<class 'pandas.core.frame.DataFrame'>\n",
            "RangeIndex: 62 entries, 0 to 61\n",
            "Data columns (total 24 columns):\n",
            " #   Column                           Non-Null Count  Dtype  \n",
            "---  ------                           --------------  -----  \n",
            " 0   percenthighpass                  62 non-null     float64\n",
            " 1   numsubs                          62 non-null     int64  \n",
            " 2   percentfirsttime                 62 non-null     float64\n",
            " 3   percenthead                      62 non-null     float64\n",
            " 4   percentshotassist                62 non-null     int64  \n",
            " 5   percentpassdeflect.x             62 non-null     float64\n",
            " 6   percentpassmiscom.x              62 non-null     float64\n",
            " 7   numthroughballs.x                62 non-null     int64  \n",
            " 8   standing_diving.x                62 non-null     int64  \n",
            " 9   duration_perc                    62 non-null     float64\n",
            " 10  angleratio                       62 non-null     float64\n",
            " 11  highpassperc                     62 non-null     float64\n",
            " 12  passesreceivedperc               62 non-null     float64\n",
            " 13  fouls                            62 non-null     int64  \n",
            " 14  num_switches                     62 non-null     int64  \n",
            " 15  num_crosses                      62 non-null     int64  \n",
            " 16  num_clearance                    62 non-null     int64  \n",
            " 17  tackles_won_perc                 62 non-null     float64\n",
            " 18  complete_dribbles_perc           62 non-null     float64\n",
            " 19  Percent_of_On_Target_Shots       62 non-null     float64\n",
            " 20  Total_shots                      62 non-null     int64  \n",
            " 21  Ratio_of_Shots                   62 non-null     float64\n",
            " 22  Previous_matches_win_percentage  62 non-null     int64  \n",
            " 23  count_dribbles                   62 non-null     int64  \n",
            "dtypes: float64(13), int64(11)\n",
            "memory usage: 11.8 KB\n",
            "None\n"
          ]
        }
      ]
    },
    {
      "cell_type": "code",
      "source": [
        "from sklearn.model_selection import GridSearchCV\n",
        "\n",
        "param_grid = {\n",
        "    'bootstrap': [True, False],\n",
        "    'n_estimators': [100,200,300,400,500],\n",
        "    'max_depth' : [3,5,7,None],\n",
        "    'max_features': [n for n in range(1,5)]\n",
        "}\n",
        "# Create a based model\n",
        "rf = RandomForestClassifier()\n",
        "# Instantiate the grid search model\n",
        "grid_search = GridSearchCV(estimator = rf, param_grid = param_grid, \n",
        "                          cv = 3)\n",
        "\n",
        "# Fit the grid search to the data\n",
        "grid_search.fit(finalallX_train, finalally_train)\n",
        "print(grid_search.best_params_)"
      ],
      "metadata": {
        "colab": {
          "base_uri": "https://localhost:8080/"
        },
        "id": "SzIk7wMhmF4v",
        "outputId": "785ca1f0-7229-4bef-c9ca-cadd9c0b91f0"
      },
      "execution_count": 8,
      "outputs": [
        {
          "output_type": "stream",
          "name": "stdout",
          "text": [
            "{'bootstrap': True, 'max_depth': 3, 'max_features': 3, 'n_estimators': 400}\n"
          ]
        }
      ]
    },
    {
      "cell_type": "code",
      "source": [
        "# average accuracy of model over 100 splits\n",
        "\n",
        "sum = 0\n",
        "for i in range(100):\n",
        "  finalallX_train, finalallX_test, finalally_train, finalally_test = train_test_split(\n",
        "              finalallX, finalally, test_size = 0.2)\n",
        "  finalallclf = RandomForestClassifier(n_estimators = 400, bootstrap = True, max_depth = 3, max_features = 3)\n",
        "  finalallclf.fit(finalallX_train, finalally_train)\n",
        "  finalally_pred = finalallclf.predict(finalallX_test)\n",
        "  sum += metrics.accuracy_score(finalally_test, finalally_pred)\n",
        "\n",
        "print(sum/100)"
      ],
      "metadata": {
        "colab": {
          "base_uri": "https://localhost:8080/"
        },
        "id": "nVp3QRbsoH-B",
        "outputId": "6e62ba91-e2e3-425e-8024-5c7dcc2a9a27"
      },
      "execution_count": 11,
      "outputs": [
        {
          "output_type": "stream",
          "name": "stdout",
          "text": [
            "0.7376923076923073\n"
          ]
        }
      ]
    },
    {
      "cell_type": "code",
      "source": [
        "# average importances of each feature over 100 splits\n",
        "\n",
        "importances = pd.DataFrame()\n",
        "\n",
        "for n in range(100):\n",
        "\n",
        "  finalallX_train, finalallX_test, finalally_train, finalally_test = train_test_split(\n",
        "             finalallX, finalally, test_size = 0.2)\n",
        "  finalallclf = RandomForestClassifier(n_estimators = 400, bootstrap = True, max_depth = 3, max_features = 3)\n",
        "  finalallclf.fit(finalallX_train, finalally_train)\n",
        "  importances[str(n)] = pd.Series(finalallclf.feature_importances_)\n",
        "\n",
        "importances['mean'] = importances.mean(axis=1)\n",
        "importancesAvg = pd.Series(importances[\"mean\"].tolist(), index = finalallX.columns)\n",
        "print(importancesAvg.sort_values(ascending = False))"
      ],
      "metadata": {
        "colab": {
          "base_uri": "https://localhost:8080/"
        },
        "id": "o9yOwPTYo8gu",
        "outputId": "7e6f2bfe-3694-45d1-f47b-94135dedc82b"
      },
      "execution_count": 13,
      "outputs": [
        {
          "output_type": "stream",
          "name": "stdout",
          "text": [
            "Ratio_of_Shots                     0.090137\n",
            "percentfirsttime                   0.083645\n",
            "duration_perc                      0.080146\n",
            "Total_shots                        0.070015\n",
            "num_crosses                        0.067549\n",
            "percentshotassist                  0.064399\n",
            "angleratio                         0.049581\n",
            "passesreceivedperc                 0.044046\n",
            "Percent_of_On_Target_Shots         0.041194\n",
            "percenthead                        0.038640\n",
            "num_clearance                      0.034818\n",
            "percenthighpass                    0.034008\n",
            "highpassperc                       0.033639\n",
            "tackles_won_perc                   0.033529\n",
            "num_switches                       0.033187\n",
            "percentpassmiscom.x                0.028337\n",
            "standing_diving.x                  0.027723\n",
            "Previous_matches_win_percentage    0.027082\n",
            "complete_dribbles_perc             0.026747\n",
            "fouls                              0.024422\n",
            "count_dribbles                     0.024198\n",
            "percentpassdeflect.x               0.022155\n",
            "numsubs                            0.011038\n",
            "numthroughballs.x                  0.009766\n",
            "dtype: float64\n"
          ]
        }
      ]
    }
  ],
  "metadata": {
    "kernelspec": {
      "display_name": "Python 3.9.12 ('base')",
      "language": "python",
      "name": "python3"
    },
    "language_info": {
      "codemirror_mode": {
        "name": "ipython",
        "version": 3
      },
      "file_extension": ".py",
      "mimetype": "text/x-python",
      "name": "python",
      "nbconvert_exporter": "python",
      "pygments_lexer": "ipython3",
      "version": "3.9.12"
    },
    "orig_nbformat": 4,
    "vscode": {
      "interpreter": {
        "hash": "eafbb80cbd38204c95b11125018c1714a199249c7cfb32d07618e185eac4f66f"
      }
    },
    "colab": {
      "provenance": []
    }
  },
  "nbformat": 4,
  "nbformat_minor": 0
}